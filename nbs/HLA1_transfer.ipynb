{
  "cells": [
    {
      "cell_type": "markdown",
      "metadata": {
        "id": "view-in-github",
        "colab_type": "text"
      },
      "source": [
        "<a href=\"https://colab.research.google.com/github/jalew188/PeptDeep-HLA/blob/master/nbs/HLA1_transfer.ipynb\" target=\"_parent\"><img src=\"https://colab.research.google.com/assets/colab-badge.svg\" alt=\"Open In Colab\"/></a>"
      ]
    },
    {
      "cell_type": "markdown",
      "metadata": {
        "id": "ZGrZ-8Y8L29n"
      },
      "source": [
        "# Transfer learning of sample-specific HLA-I models"
      ]
    },
    {
      "cell_type": "markdown",
      "source": [
        "> To enable GPU in colab, click `Runtime -> Change runtime type`."
      ],
      "metadata": {
        "id": "iqfP5mDjhBuk"
      }
    },
    {
      "cell_type": "code",
      "source": [
        "%pip install -q git+https://github.com/MannLabs/PeptDeep-HLA.git"
      ],
      "metadata": {
        "id": "S61BkTpcMYzE",
        "colab": {
          "base_uri": "https://localhost:8080/"
        },
        "outputId": "573125ce-9bac-4a10-9e6c-ef9f1bf77503"
      },
      "execution_count": null,
      "outputs": [
        {
          "output_type": "stream",
          "name": "stdout",
          "text": [
            "  Preparing metadata (setup.py) ... \u001b[?25l\u001b[?25hdone\n",
            "\u001b[2K     \u001b[90m━━━━━━━━━━━━━━━━━━━━━━━━━━━━━━━━━━━━━━\u001b[0m \u001b[32m554.0/554.0 KB\u001b[0m \u001b[31m18.6 MB/s\u001b[0m eta \u001b[36m0:00:00\u001b[0m\n",
            "\u001b[2K     \u001b[90m━━━━━━━━━━━━━━━━━━━━━━━━━━━━━━━━━━━━━━━━\u001b[0m \u001b[32m1.4/1.4 MB\u001b[0m \u001b[31m7.1 MB/s\u001b[0m eta \u001b[36m0:00:00\u001b[0m\n",
            "\u001b[2K     \u001b[90m━━━━━━━━━━━━━━━━━━━━━━━━━━━━━━━━━━━━━━━━\u001b[0m \u001b[32m3.2/3.2 MB\u001b[0m \u001b[31m89.7 MB/s\u001b[0m eta \u001b[36m0:00:00\u001b[0m\n",
            "\u001b[2K     \u001b[90m━━━━━━━━━━━━━━━━━━━━━━━━━━━━━━━━━━━━━━\u001b[0m \u001b[32m205.1/205.1 KB\u001b[0m \u001b[31m25.1 MB/s\u001b[0m eta \u001b[36m0:00:00\u001b[0m\n",
            "\u001b[2K     \u001b[90m━━━━━━━━━━━━━━━━━━━━━━━━━━━━━━━━━━━━━━━━\u001b[0m \u001b[32m9.2/9.2 MB\u001b[0m \u001b[31m82.3 MB/s\u001b[0m eta \u001b[36m0:00:00\u001b[0m\n",
            "\u001b[2K     \u001b[90m━━━━━━━━━━━━━━━━━━━━━━━━━━━━━━━━━━━━━━━━\u001b[0m \u001b[32m3.1/3.1 MB\u001b[0m \u001b[31m45.7 MB/s\u001b[0m eta \u001b[36m0:00:00\u001b[0m\n",
            "\u001b[2K     \u001b[90m━━━━━━━━━━━━━━━━━━━━━━━━━━━━━━━━━━━━━━━━\u001b[0m \u001b[32m5.8/5.8 MB\u001b[0m \u001b[31m12.2 MB/s\u001b[0m eta \u001b[36m0:00:00\u001b[0m\n",
            "\u001b[2K     \u001b[90m━━━━━━━━━━━━━━━━━━━━━━━━━━━━━━━━━━━━━━━━\u001b[0m \u001b[32m50.0/50.0 KB\u001b[0m \u001b[31m4.4 MB/s\u001b[0m eta \u001b[36m0:00:00\u001b[0m\n",
            "\u001b[2K     \u001b[90m━━━━━━━━━━━━━━━━━━━━━━━━━━━━━━━━━━━━━━\u001b[0m \u001b[32m238.1/238.1 KB\u001b[0m \u001b[31m19.6 MB/s\u001b[0m eta \u001b[36m0:00:00\u001b[0m\n",
            "\u001b[2K     \u001b[90m━━━━━━━━━━━━━━━━━━━━━━━━━━━━━━━━━━━━━━\u001b[0m \u001b[32m164.8/164.8 KB\u001b[0m \u001b[31m19.4 MB/s\u001b[0m eta \u001b[36m0:00:00\u001b[0m\n",
            "\u001b[?25h  Preparing metadata (setup.py) ... \u001b[?25l\u001b[?25hdone\n",
            "\u001b[2K     \u001b[90m━━━━━━━━━━━━━━━━━━━━━━━━━━━━━━━━━━━━━━━━\u001b[0m \u001b[32m4.7/4.7 MB\u001b[0m \u001b[31m66.6 MB/s\u001b[0m eta \u001b[36m0:00:00\u001b[0m\n",
            "\u001b[2K     \u001b[90m━━━━━━━━━━━━━━━━━━━━━━━━━━━━━━━━━━━━━━\u001b[0m \u001b[32m184.0/184.0 KB\u001b[0m \u001b[31m21.2 MB/s\u001b[0m eta \u001b[36m0:00:00\u001b[0m\n",
            "\u001b[2K     \u001b[90m━━━━━━━━━━━━━━━━━━━━━━━━━━━━━━━━━━━━━━━━\u001b[0m \u001b[32m79.0/79.0 KB\u001b[0m \u001b[31m10.8 MB/s\u001b[0m eta \u001b[36m0:00:00\u001b[0m\n",
            "\u001b[2K     \u001b[90m━━━━━━━━━━━━━━━━━━━━━━━━━━━━━━━━━━━━━━\u001b[0m \u001b[32m182.4/182.4 KB\u001b[0m \u001b[31m24.2 MB/s\u001b[0m eta \u001b[36m0:00:00\u001b[0m\n",
            "\u001b[2K     \u001b[90m━━━━━━━━━━━━━━━━━━━━━━━━━━━━━━━━━━━━━━━━\u001b[0m \u001b[32m7.6/7.6 MB\u001b[0m \u001b[31m112.1 MB/s\u001b[0m eta \u001b[36m0:00:00\u001b[0m\n",
            "\u001b[2K     \u001b[90m━━━━━━━━━━━━━━━━━━━━━━━━━━━━━━━━━━━━━━━━\u001b[0m \u001b[32m62.7/62.7 KB\u001b[0m \u001b[31m8.3 MB/s\u001b[0m eta \u001b[36m0:00:00\u001b[0m\n",
            "\u001b[2K     \u001b[90m━━━━━━━━━━━━━━━━━━━━━━━━━━━━━━━━━━━━━━━━\u001b[0m \u001b[32m51.1/51.1 KB\u001b[0m \u001b[31m6.7 MB/s\u001b[0m eta \u001b[36m0:00:00\u001b[0m\n",
            "\u001b[?25h  Building wheel for peptdeep-hla (setup.py) ... \u001b[?25l\u001b[?25hdone\n",
            "  Building wheel for validators (setup.py) ... \u001b[?25l\u001b[?25hdone\n"
          ]
        }
      ]
    },
    {
      "cell_type": "code",
      "source": [
        "%pip install -q gdown"
      ],
      "metadata": {
        "id": "J89cDtDlNlVZ"
      },
      "execution_count": null,
      "outputs": []
    },
    {
      "cell_type": "code",
      "source": [
        "import torch\n",
        "if torch.cuda.is_available():\n",
        "  # human fasta\n",
        "  fasta_url = \"https://drive.google.com/file/d/1V9KxDniKwZFZnHlP58EbjkuelNJnp1Kq/view?usp=share_link\"\n",
        "  fasta = 'UP000005640_human_reviewed.fasta'\n",
        "else:\n",
        "  # no GPU runtime in colab, use irt fusion peptides for testing\n",
        "  fasta_url = \"https://drive.google.com/file/d/1MKGRBpzvmMW0l_hdPESo3j26EWd_yi8l/view?usp=share_link\"\n",
        "  fasta = 'irtfusion.fasta'"
      ],
      "metadata": {
        "id": "EkEwRu0_kKTY"
      },
      "execution_count": null,
      "outputs": []
    },
    {
      "cell_type": "code",
      "execution_count": null,
      "metadata": {
        "id": "nsWmRQB9L29q",
        "colab": {
          "base_uri": "https://localhost:8080/",
          "height": 107
        },
        "outputId": "f5bed217-67f4-4c4e-bcfa-8b0ae682dab5"
      },
      "outputs": [
        {
          "output_type": "stream",
          "name": "stderr",
          "text": [
            "Downloading...\n",
            "From: https://drive.google.com/uc?id=1V9KxDniKwZFZnHlP58EbjkuelNJnp1Kq\n",
            "To: /content/UP000005640_human_reviewed.fasta\n",
            "100%|██████████| 13.6M/13.6M [00:00<00:00, 26.1MB/s]\n"
          ]
        },
        {
          "output_type": "execute_result",
          "data": {
            "text/plain": [
              "'UP000005640_human_reviewed.fasta'"
            ],
            "application/vnd.google.colaboratory.intrinsic+json": {
              "type": "string"
            }
          },
          "metadata": {},
          "execution_count": 4
        }
      ],
      "source": [
        "import gdown\n",
        "\n",
        "gdown.download(fasta_url, fasta, fuzzy=True)"
      ]
    },
    {
      "cell_type": "markdown",
      "metadata": {
        "id": "2pkHRHP3L29r"
      },
      "source": [
        "#### Load training HLA peptides\n",
        "\n",
        "It can be a tsv/csv/txt file containing sample-specific HLA-I peptides in the 'sequence' column.\n",
        "\n",
        "Click the `Files` (folder logo) in the left panel of Colab and upload files."
      ]
    },
    {
      "cell_type": "code",
      "source": [
        "the_file_you_uploaded = \"\""
      ],
      "metadata": {
        "id": "_1NJBuDAm9fl"
      },
      "execution_count": null,
      "outputs": []
    },
    {
      "cell_type": "code",
      "execution_count": null,
      "metadata": {
        "id": "mCYWE7fUL29s",
        "outputId": "318446f9-1947-4f5d-e39e-dcc7a60ccd16",
        "colab": {
          "base_uri": "https://localhost:8080/",
          "height": 206
        }
      },
      "outputs": [
        {
          "output_type": "execute_result",
          "data": {
            "text/plain": [
              "         sequence  nAA\n",
              "0  ACDEFGHIKLMNPQ   14\n",
              "1        ACDEFGHI    8\n",
              "2       ACDEFGHIK    9\n",
              "3     EFGHIKLMNPQ   11\n",
              "4       AHIKLMNPQ    9"
            ],
            "text/html": [
              "\n",
              "  <div id=\"df-7b3d823d-e665-4985-98eb-7104d8cddfb2\">\n",
              "    <div class=\"colab-df-container\">\n",
              "      <div>\n",
              "<style scoped>\n",
              "    .dataframe tbody tr th:only-of-type {\n",
              "        vertical-align: middle;\n",
              "    }\n",
              "\n",
              "    .dataframe tbody tr th {\n",
              "        vertical-align: top;\n",
              "    }\n",
              "\n",
              "    .dataframe thead th {\n",
              "        text-align: right;\n",
              "    }\n",
              "</style>\n",
              "<table border=\"1\" class=\"dataframe\">\n",
              "  <thead>\n",
              "    <tr style=\"text-align: right;\">\n",
              "      <th></th>\n",
              "      <th>sequence</th>\n",
              "      <th>nAA</th>\n",
              "    </tr>\n",
              "  </thead>\n",
              "  <tbody>\n",
              "    <tr>\n",
              "      <th>0</th>\n",
              "      <td>ACDEFGHIKLMNPQ</td>\n",
              "      <td>14</td>\n",
              "    </tr>\n",
              "    <tr>\n",
              "      <th>1</th>\n",
              "      <td>ACDEFGHI</td>\n",
              "      <td>8</td>\n",
              "    </tr>\n",
              "    <tr>\n",
              "      <th>2</th>\n",
              "      <td>ACDEFGHIK</td>\n",
              "      <td>9</td>\n",
              "    </tr>\n",
              "    <tr>\n",
              "      <th>3</th>\n",
              "      <td>EFGHIKLMNPQ</td>\n",
              "      <td>11</td>\n",
              "    </tr>\n",
              "    <tr>\n",
              "      <th>4</th>\n",
              "      <td>AHIKLMNPQ</td>\n",
              "      <td>9</td>\n",
              "    </tr>\n",
              "  </tbody>\n",
              "</table>\n",
              "</div>\n",
              "      <button class=\"colab-df-convert\" onclick=\"convertToInteractive('df-7b3d823d-e665-4985-98eb-7104d8cddfb2')\"\n",
              "              title=\"Convert this dataframe to an interactive table.\"\n",
              "              style=\"display:none;\">\n",
              "        \n",
              "  <svg xmlns=\"http://www.w3.org/2000/svg\" height=\"24px\"viewBox=\"0 0 24 24\"\n",
              "       width=\"24px\">\n",
              "    <path d=\"M0 0h24v24H0V0z\" fill=\"none\"/>\n",
              "    <path d=\"M18.56 5.44l.94 2.06.94-2.06 2.06-.94-2.06-.94-.94-2.06-.94 2.06-2.06.94zm-11 1L8.5 8.5l.94-2.06 2.06-.94-2.06-.94L8.5 2.5l-.94 2.06-2.06.94zm10 10l.94 2.06.94-2.06 2.06-.94-2.06-.94-.94-2.06-.94 2.06-2.06.94z\"/><path d=\"M17.41 7.96l-1.37-1.37c-.4-.4-.92-.59-1.43-.59-.52 0-1.04.2-1.43.59L10.3 9.45l-7.72 7.72c-.78.78-.78 2.05 0 2.83L4 21.41c.39.39.9.59 1.41.59.51 0 1.02-.2 1.41-.59l7.78-7.78 2.81-2.81c.8-.78.8-2.07 0-2.86zM5.41 20L4 18.59l7.72-7.72 1.47 1.35L5.41 20z\"/>\n",
              "  </svg>\n",
              "      </button>\n",
              "      \n",
              "  <style>\n",
              "    .colab-df-container {\n",
              "      display:flex;\n",
              "      flex-wrap:wrap;\n",
              "      gap: 12px;\n",
              "    }\n",
              "\n",
              "    .colab-df-convert {\n",
              "      background-color: #E8F0FE;\n",
              "      border: none;\n",
              "      border-radius: 50%;\n",
              "      cursor: pointer;\n",
              "      display: none;\n",
              "      fill: #1967D2;\n",
              "      height: 32px;\n",
              "      padding: 0 0 0 0;\n",
              "      width: 32px;\n",
              "    }\n",
              "\n",
              "    .colab-df-convert:hover {\n",
              "      background-color: #E2EBFA;\n",
              "      box-shadow: 0px 1px 2px rgba(60, 64, 67, 0.3), 0px 1px 3px 1px rgba(60, 64, 67, 0.15);\n",
              "      fill: #174EA6;\n",
              "    }\n",
              "\n",
              "    [theme=dark] .colab-df-convert {\n",
              "      background-color: #3B4455;\n",
              "      fill: #D2E3FC;\n",
              "    }\n",
              "\n",
              "    [theme=dark] .colab-df-convert:hover {\n",
              "      background-color: #434B5C;\n",
              "      box-shadow: 0px 1px 3px 1px rgba(0, 0, 0, 0.15);\n",
              "      filter: drop-shadow(0px 1px 2px rgba(0, 0, 0, 0.3));\n",
              "      fill: #FFFFFF;\n",
              "    }\n",
              "  </style>\n",
              "\n",
              "      <script>\n",
              "        const buttonEl =\n",
              "          document.querySelector('#df-7b3d823d-e665-4985-98eb-7104d8cddfb2 button.colab-df-convert');\n",
              "        buttonEl.style.display =\n",
              "          google.colab.kernel.accessAllowed ? 'block' : 'none';\n",
              "\n",
              "        async function convertToInteractive(key) {\n",
              "          const element = document.querySelector('#df-7b3d823d-e665-4985-98eb-7104d8cddfb2');\n",
              "          const dataTable =\n",
              "            await google.colab.kernel.invokeFunction('convertToInteractive',\n",
              "                                                     [key], {});\n",
              "          if (!dataTable) return;\n",
              "\n",
              "          const docLinkHtml = 'Like what you see? Visit the ' +\n",
              "            '<a target=\"_blank\" href=https://colab.research.google.com/notebooks/data_table.ipynb>data table notebook</a>'\n",
              "            + ' to learn more about interactive tables.';\n",
              "          element.innerHTML = '';\n",
              "          dataTable['output_type'] = 'display_data';\n",
              "          await google.colab.output.renderOutput(dataTable, element);\n",
              "          const docLink = document.createElement('div');\n",
              "          docLink.innerHTML = docLinkHtml;\n",
              "          element.appendChild(docLink);\n",
              "        }\n",
              "      </script>\n",
              "    </div>\n",
              "  </div>\n",
              "  "
            ]
          },
          "metadata": {},
          "execution_count": 6
        }
      ],
      "source": [
        "import pandas as pd\n",
        "\n",
        "if the_file_you_uploaded:\n",
        "  train_seq_df = pd.read_csv(the_file_you_uploaded, sep='\\t')\n",
        "else:\n",
        "  train_seq_df = pd.DataFrame({\n",
        "    'sequence': [\n",
        "        'ACDEFGHIKLMNPQ',\n",
        "        'ACDEFGHI',\n",
        "        'ACDEFGHIK',\n",
        "        'EFGHIKLMNPQ',\n",
        "        'AHIKLMNPQ',\n",
        "    ]\n",
        "  })\n",
        "train_seq_df['nAA'] = train_seq_df.sequence.str.len()\n",
        "train_seq_df"
      ]
    },
    {
      "cell_type": "markdown",
      "metadata": {
        "id": "KeAM4pb-L29t"
      },
      "source": [
        "#### Initialize the model and load the pretrained model"
      ]
    },
    {
      "cell_type": "code",
      "execution_count": null,
      "metadata": {
        "id": "w1kL20zsL29t",
        "outputId": "4e59f4b4-df15-4f02-b9f5-1a5b7aa68fee",
        "colab": {
          "base_uri": "https://localhost:8080/"
        }
      },
      "outputs": [
        {
          "output_type": "stream",
          "name": "stdout",
          "text": [
            "2023-01-03 20:31:48> Downloading pretrained_models.zip ...\n",
            "2023-01-03 20:31:51> The pretrained models had been downloaded in /root/peptdeep/pretrained_models/pretrained_models.zip\n"
          ]
        },
        {
          "output_type": "execute_result",
          "data": {
            "text/plain": [
              "1669697"
            ]
          },
          "metadata": {},
          "execution_count": 7
        }
      ],
      "source": [
        "from peptdeep_hla.HLA_class_I import HLA_Class_I_Classifier\n",
        "model = HLA_Class_I_Classifier(\n",
        "    fasta_files=[fasta]\n",
        ")\n",
        "model.get_parameter_num()"
      ]
    },
    {
      "cell_type": "code",
      "execution_count": null,
      "metadata": {
        "id": "zSDxcbPBL29u",
        "outputId": "57a9365d-44bb-4465-c7bd-e18d8297df8c",
        "colab": {
          "base_uri": "https://localhost:8080/",
          "height": 35
        }
      },
      "outputs": [
        {
          "output_type": "execute_result",
          "data": {
            "text/plain": [
              "'/usr/local/lib/python3.8/dist-packages/peptdeep_hla/pretrained_models/HLA1_IEDB.pt'"
            ],
            "application/vnd.google.colaboratory.intrinsic+json": {
              "type": "string"
            }
          },
          "metadata": {},
          "execution_count": 8
        }
      ],
      "source": [
        "from peptdeep_hla.HLA_class_I import pretrained_HLA1\n",
        "model.load(pretrained_HLA1)\n",
        "pretrained_HLA1"
      ]
    },
    {
      "cell_type": "markdown",
      "metadata": {
        "id": "QfAZ5MHCL29u"
      },
      "source": [
        "#### Train by the training peptides\n",
        "\n",
        "The non-HLA peptides are automatically sampled from the fasta file as the negative training data."
      ]
    },
    {
      "cell_type": "code",
      "execution_count": null,
      "metadata": {
        "id": "Esk0H_VTL29v",
        "outputId": "91189896-e94e-48c6-f9a9-f9bb6a8f66b1",
        "colab": {
          "base_uri": "https://localhost:8080/"
        }
      },
      "outputs": [
        {
          "output_type": "stream",
          "name": "stdout",
          "text": [
            "[Training] Epoch=1, lr=1e-05, loss=1.4590696841478348\n",
            "[Training] Epoch=2, lr=2e-05, loss=1.4447193890810013\n",
            "[Training] Epoch=3, lr=3e-05, loss=1.4153653532266617\n",
            "[Training] Epoch=4, lr=4e-05, loss=0.7665752694010735\n",
            "[Training] Epoch=5, lr=5e-05, loss=0.873346634209156\n",
            "[Training] Epoch=6, lr=6e-05, loss=0.5855524465441704\n",
            "[Training] Epoch=7, lr=7e-05, loss=0.18241026252508163\n",
            "[Training] Epoch=8, lr=8e-05, loss=0.3510209955275059\n",
            "[Training] Epoch=9, lr=9e-05, loss=0.49503829004243016\n",
            "[Training] Epoch=10, lr=0.0001, loss=0.11926002241671085\n",
            "[Training] Epoch=11, lr=9.755282581475769e-05, loss=0.30639077723026276\n",
            "[Training] Epoch=12, lr=9.045084971874738e-05, loss=0.47722677886486053\n",
            "[Training] Epoch=13, lr=7.938926261462366e-05, loss=0.2694461327046156\n",
            "[Training] Epoch=14, lr=6.545084971874738e-05, loss=0.01919158105738461\n",
            "[Training] Epoch=15, lr=5e-05, loss=0.017440842115320265\n",
            "[Training] Epoch=16, lr=3.4549150281252636e-05, loss=0.01759017980657518\n",
            "[Training] Epoch=17, lr=2.061073738537635e-05, loss=0.058760388754308224\n",
            "[Training] Epoch=18, lr=9.549150281252633e-06, loss=0.009229576447978616\n",
            "[Training] Epoch=19, lr=2.4471741852423237e-06, loss=0.007060909061692655\n",
            "[Training] Epoch=20, lr=0.0, loss=0.014045228366740048\n"
          ]
        }
      ],
      "source": [
        "model.train(\n",
        "    train_seq_df, \n",
        "    epoch=20, warmup_epoch=10, \n",
        "    verbose=True\n",
        ")"
      ]
    },
    {
      "cell_type": "markdown",
      "metadata": {
        "id": "_XNHZixOL29w"
      },
      "source": [
        "#### Predict HLA-I peptides from fasta"
      ]
    },
    {
      "cell_type": "code",
      "execution_count": null,
      "metadata": {
        "id": "kzNnoQjyL29w",
        "outputId": "993c110e-7950-4632-e9e7-4a418a393c28",
        "colab": {
          "base_uri": "https://localhost:8080/",
          "height": 782
        }
      },
      "outputs": [
        {
          "output_type": "stream",
          "name": "stderr",
          "text": [
            "/usr/local/lib/python3.8/dist-packages/pydivsufsort/divsufsort.py:76: UserWarning: converting str argument uses more memory\n",
            "  warnings.warn(\"converting str argument uses more memory\")\n",
            "/usr/local/lib/python3.8/dist-packages/alphabase/protein/lcp_digest.py:7: UserWarning: converting str argument uses more memory\n",
            "  lcp_array = kasai(cat_prot, suffix_array)\n",
            "100%|██████████| 72/72 [56:22<00:00, 46.99s/it]\n"
          ]
        },
        {
          "output_type": "execute_result",
          "data": {
            "text/plain": [
              "        start_pos  end_pos  nAA  HLA_prob_pred        sequence\n",
              "0         4709883  4709891    8       0.853650        TESEARAL\n",
              "1         4709854  4709862    8       0.769178        LPPPGLTI\n",
              "2         4709869  4709877    8       0.758194        LPNIKREL\n",
              "3         4709810  4709818    8       0.968220        VIDDIISL\n",
              "4         4710441  4710449    8       0.932903        AEAPPPQI\n",
              "...           ...      ...  ...            ...             ...\n",
              "849954    7595702  7595716   14       0.792721  HHDYLLGHLDDEGK\n",
              "849955    9899415  9899429   14       0.947694  KRFEFPNSLIQSQA\n",
              "849956    2563499  2563513   14       0.878654  DTVPSSTNQVVGSR\n",
              "849957    7595719  7595733   14       0.988616  QSDRGKGAEGLGTY\n",
              "849958    4323138  4323152   14       0.740993  PLKMGMMNNPNPYG\n",
              "\n",
              "[849959 rows x 5 columns]"
            ],
            "text/html": [
              "\n",
              "  <div id=\"df-442dbfc0-6451-40b5-9730-7abb9fc52c9c\">\n",
              "    <div class=\"colab-df-container\">\n",
              "      <div>\n",
              "<style scoped>\n",
              "    .dataframe tbody tr th:only-of-type {\n",
              "        vertical-align: middle;\n",
              "    }\n",
              "\n",
              "    .dataframe tbody tr th {\n",
              "        vertical-align: top;\n",
              "    }\n",
              "\n",
              "    .dataframe thead th {\n",
              "        text-align: right;\n",
              "    }\n",
              "</style>\n",
              "<table border=\"1\" class=\"dataframe\">\n",
              "  <thead>\n",
              "    <tr style=\"text-align: right;\">\n",
              "      <th></th>\n",
              "      <th>start_pos</th>\n",
              "      <th>end_pos</th>\n",
              "      <th>nAA</th>\n",
              "      <th>HLA_prob_pred</th>\n",
              "      <th>sequence</th>\n",
              "    </tr>\n",
              "  </thead>\n",
              "  <tbody>\n",
              "    <tr>\n",
              "      <th>0</th>\n",
              "      <td>4709883</td>\n",
              "      <td>4709891</td>\n",
              "      <td>8</td>\n",
              "      <td>0.853650</td>\n",
              "      <td>TESEARAL</td>\n",
              "    </tr>\n",
              "    <tr>\n",
              "      <th>1</th>\n",
              "      <td>4709854</td>\n",
              "      <td>4709862</td>\n",
              "      <td>8</td>\n",
              "      <td>0.769178</td>\n",
              "      <td>LPPPGLTI</td>\n",
              "    </tr>\n",
              "    <tr>\n",
              "      <th>2</th>\n",
              "      <td>4709869</td>\n",
              "      <td>4709877</td>\n",
              "      <td>8</td>\n",
              "      <td>0.758194</td>\n",
              "      <td>LPNIKREL</td>\n",
              "    </tr>\n",
              "    <tr>\n",
              "      <th>3</th>\n",
              "      <td>4709810</td>\n",
              "      <td>4709818</td>\n",
              "      <td>8</td>\n",
              "      <td>0.968220</td>\n",
              "      <td>VIDDIISL</td>\n",
              "    </tr>\n",
              "    <tr>\n",
              "      <th>4</th>\n",
              "      <td>4710441</td>\n",
              "      <td>4710449</td>\n",
              "      <td>8</td>\n",
              "      <td>0.932903</td>\n",
              "      <td>AEAPPPQI</td>\n",
              "    </tr>\n",
              "    <tr>\n",
              "      <th>...</th>\n",
              "      <td>...</td>\n",
              "      <td>...</td>\n",
              "      <td>...</td>\n",
              "      <td>...</td>\n",
              "      <td>...</td>\n",
              "    </tr>\n",
              "    <tr>\n",
              "      <th>849954</th>\n",
              "      <td>7595702</td>\n",
              "      <td>7595716</td>\n",
              "      <td>14</td>\n",
              "      <td>0.792721</td>\n",
              "      <td>HHDYLLGHLDDEGK</td>\n",
              "    </tr>\n",
              "    <tr>\n",
              "      <th>849955</th>\n",
              "      <td>9899415</td>\n",
              "      <td>9899429</td>\n",
              "      <td>14</td>\n",
              "      <td>0.947694</td>\n",
              "      <td>KRFEFPNSLIQSQA</td>\n",
              "    </tr>\n",
              "    <tr>\n",
              "      <th>849956</th>\n",
              "      <td>2563499</td>\n",
              "      <td>2563513</td>\n",
              "      <td>14</td>\n",
              "      <td>0.878654</td>\n",
              "      <td>DTVPSSTNQVVGSR</td>\n",
              "    </tr>\n",
              "    <tr>\n",
              "      <th>849957</th>\n",
              "      <td>7595719</td>\n",
              "      <td>7595733</td>\n",
              "      <td>14</td>\n",
              "      <td>0.988616</td>\n",
              "      <td>QSDRGKGAEGLGTY</td>\n",
              "    </tr>\n",
              "    <tr>\n",
              "      <th>849958</th>\n",
              "      <td>4323138</td>\n",
              "      <td>4323152</td>\n",
              "      <td>14</td>\n",
              "      <td>0.740993</td>\n",
              "      <td>PLKMGMMNNPNPYG</td>\n",
              "    </tr>\n",
              "  </tbody>\n",
              "</table>\n",
              "<p>849959 rows × 5 columns</p>\n",
              "</div>\n",
              "      <button class=\"colab-df-convert\" onclick=\"convertToInteractive('df-442dbfc0-6451-40b5-9730-7abb9fc52c9c')\"\n",
              "              title=\"Convert this dataframe to an interactive table.\"\n",
              "              style=\"display:none;\">\n",
              "        \n",
              "  <svg xmlns=\"http://www.w3.org/2000/svg\" height=\"24px\"viewBox=\"0 0 24 24\"\n",
              "       width=\"24px\">\n",
              "    <path d=\"M0 0h24v24H0V0z\" fill=\"none\"/>\n",
              "    <path d=\"M18.56 5.44l.94 2.06.94-2.06 2.06-.94-2.06-.94-.94-2.06-.94 2.06-2.06.94zm-11 1L8.5 8.5l.94-2.06 2.06-.94-2.06-.94L8.5 2.5l-.94 2.06-2.06.94zm10 10l.94 2.06.94-2.06 2.06-.94-2.06-.94-.94-2.06-.94 2.06-2.06.94z\"/><path d=\"M17.41 7.96l-1.37-1.37c-.4-.4-.92-.59-1.43-.59-.52 0-1.04.2-1.43.59L10.3 9.45l-7.72 7.72c-.78.78-.78 2.05 0 2.83L4 21.41c.39.39.9.59 1.41.59.51 0 1.02-.2 1.41-.59l7.78-7.78 2.81-2.81c.8-.78.8-2.07 0-2.86zM5.41 20L4 18.59l7.72-7.72 1.47 1.35L5.41 20z\"/>\n",
              "  </svg>\n",
              "      </button>\n",
              "      \n",
              "  <style>\n",
              "    .colab-df-container {\n",
              "      display:flex;\n",
              "      flex-wrap:wrap;\n",
              "      gap: 12px;\n",
              "    }\n",
              "\n",
              "    .colab-df-convert {\n",
              "      background-color: #E8F0FE;\n",
              "      border: none;\n",
              "      border-radius: 50%;\n",
              "      cursor: pointer;\n",
              "      display: none;\n",
              "      fill: #1967D2;\n",
              "      height: 32px;\n",
              "      padding: 0 0 0 0;\n",
              "      width: 32px;\n",
              "    }\n",
              "\n",
              "    .colab-df-convert:hover {\n",
              "      background-color: #E2EBFA;\n",
              "      box-shadow: 0px 1px 2px rgba(60, 64, 67, 0.3), 0px 1px 3px 1px rgba(60, 64, 67, 0.15);\n",
              "      fill: #174EA6;\n",
              "    }\n",
              "\n",
              "    [theme=dark] .colab-df-convert {\n",
              "      background-color: #3B4455;\n",
              "      fill: #D2E3FC;\n",
              "    }\n",
              "\n",
              "    [theme=dark] .colab-df-convert:hover {\n",
              "      background-color: #434B5C;\n",
              "      box-shadow: 0px 1px 3px 1px rgba(0, 0, 0, 0.15);\n",
              "      filter: drop-shadow(0px 1px 2px rgba(0, 0, 0, 0.3));\n",
              "      fill: #FFFFFF;\n",
              "    }\n",
              "  </style>\n",
              "\n",
              "      <script>\n",
              "        const buttonEl =\n",
              "          document.querySelector('#df-442dbfc0-6451-40b5-9730-7abb9fc52c9c button.colab-df-convert');\n",
              "        buttonEl.style.display =\n",
              "          google.colab.kernel.accessAllowed ? 'block' : 'none';\n",
              "\n",
              "        async function convertToInteractive(key) {\n",
              "          const element = document.querySelector('#df-442dbfc0-6451-40b5-9730-7abb9fc52c9c');\n",
              "          const dataTable =\n",
              "            await google.colab.kernel.invokeFunction('convertToInteractive',\n",
              "                                                     [key], {});\n",
              "          if (!dataTable) return;\n",
              "\n",
              "          const docLinkHtml = 'Like what you see? Visit the ' +\n",
              "            '<a target=\"_blank\" href=https://colab.research.google.com/notebooks/data_table.ipynb>data table notebook</a>'\n",
              "            + ' to learn more about interactive tables.';\n",
              "          element.innerHTML = '';\n",
              "          dataTable['output_type'] = 'display_data';\n",
              "          await google.colab.output.renderOutput(dataTable, element);\n",
              "          const docLink = document.createElement('div');\n",
              "          docLink.innerHTML = docLinkHtml;\n",
              "          element.appendChild(docLink);\n",
              "        }\n",
              "      </script>\n",
              "    </div>\n",
              "  </div>\n",
              "  "
            ]
          },
          "metadata": {},
          "execution_count": 10
        },
        {
          "output_type": "stream",
          "name": "stdout",
          "text": [
            "Warning: total number of rows (849959) exceeds max_rows (20000). Limiting to first (20000) rows.\n"
          ]
        }
      ],
      "source": [
        "hla_df = model.predict_from_proteins(prob_threshold=0.7)\n",
        "hla_df"
      ]
    },
    {
      "cell_type": "code",
      "execution_count": null,
      "metadata": {
        "id": "9YvPRx7qL29w"
      },
      "outputs": [],
      "source": [
        "hla_df[['sequence','HLA_prob_pred']].to_csv('Predicted_HLA.tsv',index=False, sep=\"\\t\")"
      ]
    },
    {
      "cell_type": "markdown",
      "source": [
        "To download `Predicted_HLA.tsv` when using Colab, click the `Files` (folder logo) in the left panel and right-click the file to download."
      ],
      "metadata": {
        "id": "QOZ3pZO_h4T2"
      }
    },
    {
      "cell_type": "code",
      "source": [
        "#@title Download Predicted_HLA.tsv\n",
        "from google.colab import files\n",
        "files.download(f'Predicted_HLA.tsv')"
      ],
      "metadata": {
        "id": "kcks7CpViu2n"
      },
      "execution_count": null,
      "outputs": []
    },
    {
      "cell_type": "code",
      "source": [
        "#@title Download transfer learning model\n",
        "from google.colab import files\n",
        "model.save('transfer_HLA.pt')\n",
        "files.download(f'transfer_HLA.tsv')"
      ],
      "metadata": {
        "id": "dSbhJbJDQXum"
      },
      "execution_count": null,
      "outputs": []
    }
  ],
  "metadata": {
    "kernelspec": {
      "display_name": "Python 3.8.3 ('base')",
      "language": "python",
      "name": "python3"
    },
    "language_info": {
      "codemirror_mode": {
        "name": "ipython",
        "version": 3
      },
      "file_extension": ".py",
      "mimetype": "text/x-python",
      "name": "python",
      "nbconvert_exporter": "python",
      "pygments_lexer": "ipython3",
      "version": "3.8.3"
    },
    "orig_nbformat": 4,
    "vscode": {
      "interpreter": {
        "hash": "8a3b27e141e49c996c9b863f8707e97aabd49c4a7e8445b9b783b34e4a21a9b2"
      }
    },
    "colab": {
      "provenance": [],
      "include_colab_link": true
    },
    "accelerator": "GPU",
    "gpuClass": "standard"
  },
  "nbformat": 4,
  "nbformat_minor": 0
}