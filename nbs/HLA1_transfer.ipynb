{
  "cells": [
    {
      "cell_type": "markdown",
      "metadata": {
        "id": "view-in-github",
        "colab_type": "text"
      },
      "source": [
        "<a href=\"https://colab.research.google.com/github/jalew188/PeptDeep-HLA/blob/master/nbs/HLA1_transfer.ipynb\" target=\"_parent\"><img src=\"https://colab.research.google.com/assets/colab-badge.svg\" alt=\"Open In Colab\"/></a>"
      ]
    },
    {
      "cell_type": "markdown",
      "metadata": {
        "id": "ZGrZ-8Y8L29n"
      },
      "source": [
        "# Transfer learning of sample-specific HLA-I models"
      ]
    },
    {
      "cell_type": "markdown",
      "source": [
        "> To enable GPU in colab, click `Runtime -> Change runtime type`."
      ],
      "metadata": {
        "id": "iqfP5mDjhBuk"
      }
    },
    {
      "cell_type": "code",
      "source": [
        "%pip install -q git+https://github.com/MannLabs/PeptDeep-HLA.git"
      ],
      "metadata": {
        "id": "S61BkTpcMYzE"
      },
      "execution_count": 1,
      "outputs": []
    },
    {
      "cell_type": "code",
      "source": [
        "%pip install -q gdown"
      ],
      "metadata": {
        "id": "J89cDtDlNlVZ"
      },
      "execution_count": 2,
      "outputs": []
    },
    {
      "cell_type": "code",
      "source": [
        "import torch\n",
        "if torch.cuda.is_available():\n",
        "  # human fasta\n",
        "  fasta_url = \"https://drive.google.com/file/d/1V9KxDniKwZFZnHlP58EbjkuelNJnp1Kq/view?usp=share_link\"\n",
        "  fasta = 'UP000005640_human_reviewed.fasta'\n",
        "else:\n",
        "  # no GPU runtime in colab, use irt fusion peptides for testing\n",
        "  fasta_url = \"https://drive.google.com/file/d/1MKGRBpzvmMW0l_hdPESo3j26EWd_yi8l/view?usp=share_link\"\n",
        "  fasta = 'irtfusion.fasta'"
      ],
      "metadata": {
        "id": "EkEwRu0_kKTY"
      },
      "execution_count": 3,
      "outputs": []
    },
    {
      "cell_type": "code",
      "execution_count": 4,
      "metadata": {
        "id": "nsWmRQB9L29q",
        "colab": {
          "base_uri": "https://localhost:8080/",
          "height": 109
        },
        "outputId": "f368040a-28d6-400e-e8a2-4173eceb6a64"
      },
      "outputs": [
        {
          "output_type": "stream",
          "name": "stderr",
          "text": [
            "Downloading...\n",
            "From: https://drive.google.com/uc?id=1MKGRBpzvmMW0l_hdPESo3j26EWd_yi8l\n",
            "To: /content/irtfusion.fasta\n",
            "100%|██████████| 174/174 [00:00<00:00, 180kB/s]\n"
          ]
        },
        {
          "output_type": "execute_result",
          "data": {
            "text/plain": [
              "'irtfusion.fasta'"
            ],
            "application/vnd.google.colaboratory.intrinsic+json": {
              "type": "string"
            }
          },
          "metadata": {},
          "execution_count": 4
        }
      ],
      "source": [
        "import gdown\n",
        "\n",
        "gdown.download(fasta_url, fasta, fuzzy=True)"
      ]
    },
    {
      "cell_type": "markdown",
      "metadata": {
        "id": "2pkHRHP3L29r"
      },
      "source": [
        "#### Load training HLA peptides\n",
        "\n",
        "It can be a tsv/csv/txt file containing sample-specific HLA-I peptides in the 'sequence' column.\n",
        "\n",
        "Click the `Files` (folder logo) in the left panel of Colab and upload files."
      ]
    },
    {
      "cell_type": "code",
      "source": [
        "the_file_you_uploaded = \"\""
      ],
      "metadata": {
        "id": "_1NJBuDAm9fl"
      },
      "execution_count": 5,
      "outputs": []
    },
    {
      "cell_type": "code",
      "execution_count": 6,
      "metadata": {
        "id": "mCYWE7fUL29s",
        "outputId": "f480d5a7-9e25-4d92-c60e-44adf8469b1e",
        "colab": {
          "base_uri": "https://localhost:8080/",
          "height": 206
        }
      },
      "outputs": [
        {
          "output_type": "execute_result",
          "data": {
            "text/plain": [
              "         sequence  nAA\n",
              "0  ACDEFGHIKLMNPQ   14\n",
              "1        ACDEFGHI    8\n",
              "2       ACDEFGHIK    9\n",
              "3     EFGHIKLMNPQ   11\n",
              "4       AHIKLMNPQ    9"
            ],
            "text/html": [
              "\n",
              "  <div id=\"df-3af3d9a2-7c9b-4601-99b6-5cc64b33a9f4\">\n",
              "    <div class=\"colab-df-container\">\n",
              "      <div>\n",
              "<style scoped>\n",
              "    .dataframe tbody tr th:only-of-type {\n",
              "        vertical-align: middle;\n",
              "    }\n",
              "\n",
              "    .dataframe tbody tr th {\n",
              "        vertical-align: top;\n",
              "    }\n",
              "\n",
              "    .dataframe thead th {\n",
              "        text-align: right;\n",
              "    }\n",
              "</style>\n",
              "<table border=\"1\" class=\"dataframe\">\n",
              "  <thead>\n",
              "    <tr style=\"text-align: right;\">\n",
              "      <th></th>\n",
              "      <th>sequence</th>\n",
              "      <th>nAA</th>\n",
              "    </tr>\n",
              "  </thead>\n",
              "  <tbody>\n",
              "    <tr>\n",
              "      <th>0</th>\n",
              "      <td>ACDEFGHIKLMNPQ</td>\n",
              "      <td>14</td>\n",
              "    </tr>\n",
              "    <tr>\n",
              "      <th>1</th>\n",
              "      <td>ACDEFGHI</td>\n",
              "      <td>8</td>\n",
              "    </tr>\n",
              "    <tr>\n",
              "      <th>2</th>\n",
              "      <td>ACDEFGHIK</td>\n",
              "      <td>9</td>\n",
              "    </tr>\n",
              "    <tr>\n",
              "      <th>3</th>\n",
              "      <td>EFGHIKLMNPQ</td>\n",
              "      <td>11</td>\n",
              "    </tr>\n",
              "    <tr>\n",
              "      <th>4</th>\n",
              "      <td>AHIKLMNPQ</td>\n",
              "      <td>9</td>\n",
              "    </tr>\n",
              "  </tbody>\n",
              "</table>\n",
              "</div>\n",
              "      <button class=\"colab-df-convert\" onclick=\"convertToInteractive('df-3af3d9a2-7c9b-4601-99b6-5cc64b33a9f4')\"\n",
              "              title=\"Convert this dataframe to an interactive table.\"\n",
              "              style=\"display:none;\">\n",
              "        \n",
              "  <svg xmlns=\"http://www.w3.org/2000/svg\" height=\"24px\"viewBox=\"0 0 24 24\"\n",
              "       width=\"24px\">\n",
              "    <path d=\"M0 0h24v24H0V0z\" fill=\"none\"/>\n",
              "    <path d=\"M18.56 5.44l.94 2.06.94-2.06 2.06-.94-2.06-.94-.94-2.06-.94 2.06-2.06.94zm-11 1L8.5 8.5l.94-2.06 2.06-.94-2.06-.94L8.5 2.5l-.94 2.06-2.06.94zm10 10l.94 2.06.94-2.06 2.06-.94-2.06-.94-.94-2.06-.94 2.06-2.06.94z\"/><path d=\"M17.41 7.96l-1.37-1.37c-.4-.4-.92-.59-1.43-.59-.52 0-1.04.2-1.43.59L10.3 9.45l-7.72 7.72c-.78.78-.78 2.05 0 2.83L4 21.41c.39.39.9.59 1.41.59.51 0 1.02-.2 1.41-.59l7.78-7.78 2.81-2.81c.8-.78.8-2.07 0-2.86zM5.41 20L4 18.59l7.72-7.72 1.47 1.35L5.41 20z\"/>\n",
              "  </svg>\n",
              "      </button>\n",
              "      \n",
              "  <style>\n",
              "    .colab-df-container {\n",
              "      display:flex;\n",
              "      flex-wrap:wrap;\n",
              "      gap: 12px;\n",
              "    }\n",
              "\n",
              "    .colab-df-convert {\n",
              "      background-color: #E8F0FE;\n",
              "      border: none;\n",
              "      border-radius: 50%;\n",
              "      cursor: pointer;\n",
              "      display: none;\n",
              "      fill: #1967D2;\n",
              "      height: 32px;\n",
              "      padding: 0 0 0 0;\n",
              "      width: 32px;\n",
              "    }\n",
              "\n",
              "    .colab-df-convert:hover {\n",
              "      background-color: #E2EBFA;\n",
              "      box-shadow: 0px 1px 2px rgba(60, 64, 67, 0.3), 0px 1px 3px 1px rgba(60, 64, 67, 0.15);\n",
              "      fill: #174EA6;\n",
              "    }\n",
              "\n",
              "    [theme=dark] .colab-df-convert {\n",
              "      background-color: #3B4455;\n",
              "      fill: #D2E3FC;\n",
              "    }\n",
              "\n",
              "    [theme=dark] .colab-df-convert:hover {\n",
              "      background-color: #434B5C;\n",
              "      box-shadow: 0px 1px 3px 1px rgba(0, 0, 0, 0.15);\n",
              "      filter: drop-shadow(0px 1px 2px rgba(0, 0, 0, 0.3));\n",
              "      fill: #FFFFFF;\n",
              "    }\n",
              "  </style>\n",
              "\n",
              "      <script>\n",
              "        const buttonEl =\n",
              "          document.querySelector('#df-3af3d9a2-7c9b-4601-99b6-5cc64b33a9f4 button.colab-df-convert');\n",
              "        buttonEl.style.display =\n",
              "          google.colab.kernel.accessAllowed ? 'block' : 'none';\n",
              "\n",
              "        async function convertToInteractive(key) {\n",
              "          const element = document.querySelector('#df-3af3d9a2-7c9b-4601-99b6-5cc64b33a9f4');\n",
              "          const dataTable =\n",
              "            await google.colab.kernel.invokeFunction('convertToInteractive',\n",
              "                                                     [key], {});\n",
              "          if (!dataTable) return;\n",
              "\n",
              "          const docLinkHtml = 'Like what you see? Visit the ' +\n",
              "            '<a target=\"_blank\" href=https://colab.research.google.com/notebooks/data_table.ipynb>data table notebook</a>'\n",
              "            + ' to learn more about interactive tables.';\n",
              "          element.innerHTML = '';\n",
              "          dataTable['output_type'] = 'display_data';\n",
              "          await google.colab.output.renderOutput(dataTable, element);\n",
              "          const docLink = document.createElement('div');\n",
              "          docLink.innerHTML = docLinkHtml;\n",
              "          element.appendChild(docLink);\n",
              "        }\n",
              "      </script>\n",
              "    </div>\n",
              "  </div>\n",
              "  "
            ]
          },
          "metadata": {},
          "execution_count": 6
        }
      ],
      "source": [
        "import pandas as pd\n",
        "\n",
        "if the_file_you_uploaded:\n",
        "  train_seq_df = pd.read_csv(the_file_you_uploaded, sep='\\t')\n",
        "else:\n",
        "  train_seq_df = pd.DataFrame({\n",
        "    'sequence': [\n",
        "        'ACDEFGHIKLMNPQ',\n",
        "        'ACDEFGHI',\n",
        "        'ACDEFGHIK',\n",
        "        'EFGHIKLMNPQ',\n",
        "        'AHIKLMNPQ',\n",
        "    ]\n",
        "  })\n",
        "train_seq_df['nAA'] = train_seq_df.sequence.str.len()\n",
        "train_seq_df"
      ]
    },
    {
      "cell_type": "markdown",
      "metadata": {
        "id": "KeAM4pb-L29t"
      },
      "source": [
        "#### Initialize the model and load the pretrained model"
      ]
    },
    {
      "cell_type": "code",
      "execution_count": 7,
      "metadata": {
        "id": "w1kL20zsL29t",
        "outputId": "6770da00-e752-406b-8328-dbdd65859166",
        "colab": {
          "base_uri": "https://localhost:8080/"
        }
      },
      "outputs": [
        {
          "output_type": "execute_result",
          "data": {
            "text/plain": [
              "1669697"
            ]
          },
          "metadata": {},
          "execution_count": 7
        }
      ],
      "source": [
        "from peptdeep_hla.HLA_class_I import HLA_Class_I_Classifier\n",
        "model = HLA_Class_I_Classifier(\n",
        "    fasta_files=[fasta]\n",
        ")\n",
        "model.get_parameter_num()"
      ]
    },
    {
      "cell_type": "code",
      "execution_count": 8,
      "metadata": {
        "id": "zSDxcbPBL29u",
        "outputId": "99fa609e-c245-46d7-b303-da12ba7c601d",
        "colab": {
          "base_uri": "https://localhost:8080/",
          "height": 35
        }
      },
      "outputs": [
        {
          "output_type": "execute_result",
          "data": {
            "text/plain": [
              "'/usr/local/lib/python3.8/dist-packages/peptdeep_hla/pretrained_models/HLA1_IEDB.pt'"
            ],
            "application/vnd.google.colaboratory.intrinsic+json": {
              "type": "string"
            }
          },
          "metadata": {},
          "execution_count": 8
        }
      ],
      "source": [
        "from peptdeep_hla.HLA_class_I import pretrained_HLA1\n",
        "model.load(pretrained_HLA1)\n",
        "pretrained_HLA1"
      ]
    },
    {
      "cell_type": "markdown",
      "metadata": {
        "id": "QfAZ5MHCL29u"
      },
      "source": [
        "#### Train by the training peptides\n",
        "\n",
        "The non-HLA peptides are automatically sampled from the fasta file as the negative training data."
      ]
    },
    {
      "cell_type": "code",
      "execution_count": 9,
      "metadata": {
        "id": "Esk0H_VTL29v",
        "outputId": "28387d84-c15e-472b-fa14-5f2adf832b4b",
        "colab": {
          "base_uri": "https://localhost:8080/"
        }
      },
      "outputs": [
        {
          "output_type": "stream",
          "name": "stdout",
          "text": [
            "[Training] Epoch=1, lr=1e-05, loss=1.5713386237621307\n",
            "[Training] Epoch=2, lr=2e-05, loss=1.5816382467746735\n",
            "[Training] Epoch=3, lr=3e-05, loss=1.5455440878868103\n",
            "[Training] Epoch=4, lr=4e-05, loss=0.8761113584041595\n",
            "[Training] Epoch=5, lr=5e-05, loss=0.5743134282529354\n",
            "[Training] Epoch=6, lr=6e-05, loss=0.7115397229790688\n",
            "[Training] Epoch=7, lr=7e-05, loss=0.8482447639107704\n",
            "[Training] Epoch=8, lr=8e-05, loss=0.45883858948946\n",
            "[Training] Epoch=9, lr=9e-05, loss=0.36174119263887405\n",
            "[Training] Epoch=10, lr=0.0001, loss=0.21440323255956173\n",
            "[Training] Epoch=11, lr=9.755282581475769e-05, loss=0.08296080213040113\n",
            "[Training] Epoch=12, lr=9.045084971874738e-05, loss=0.03662086511030793\n",
            "[Training] Epoch=13, lr=7.938926261462366e-05, loss=0.10513292765244842\n",
            "[Training] Epoch=14, lr=6.545084971874738e-05, loss=0.03265547938644886\n",
            "[Training] Epoch=15, lr=5e-05, loss=0.08746509533375502\n",
            "[Training] Epoch=16, lr=3.4549150281252636e-05, loss=0.007541837519966066\n",
            "[Training] Epoch=17, lr=2.061073738537635e-05, loss=0.007036262773908675\n",
            "[Training] Epoch=18, lr=9.549150281252633e-06, loss=0.008188048610463738\n",
            "[Training] Epoch=19, lr=2.4471741852423237e-06, loss=0.006170475389808416\n",
            "[Training] Epoch=20, lr=0.0, loss=0.011769870470743626\n"
          ]
        }
      ],
      "source": [
        "model.train(\n",
        "    train_seq_df, \n",
        "    epoch=20, warmup_epoch=10, \n",
        "    verbose=True\n",
        ")"
      ]
    },
    {
      "cell_type": "markdown",
      "metadata": {
        "id": "_XNHZixOL29w"
      },
      "source": [
        "#### Predict HLA-I peptides from fasta"
      ]
    },
    {
      "cell_type": "code",
      "execution_count": 10,
      "metadata": {
        "id": "kzNnoQjyL29w",
        "outputId": "bde45f0e-9d11-41c6-8c0b-57b861481370",
        "colab": {
          "base_uri": "https://localhost:8080/",
          "height": 319
        }
      },
      "outputs": [
        {
          "output_type": "stream",
          "name": "stderr",
          "text": [
            "100%|██████████| 1/1 [00:01<00:00,  1.14s/it]\n"
          ]
        },
        {
          "output_type": "execute_result",
          "data": {
            "text/plain": [
              "   start_pos  end_pos  nAA  HLA_prob_pred        sequence\n",
              "0        116      124    8       0.838455        SEWSKLFL\n",
              "1        116      126   10       0.774762      SEWSKLFLQF\n",
              "2         22       32   10       0.854397      FIIDPGGVIR\n",
              "3         72       83   11       0.973126     ATFGVDESNAK\n",
              "4         20       32   12       0.839394    GTFIIDPGGVIR\n",
              "5        106      119   13       0.752223   VRADVTPADFSEW\n",
              "6         22       35   13       0.841694   FIIDPGGVIRGTF\n",
              "7          9       23   14       0.718809  RYILAGVENSKGTF"
            ],
            "text/html": [
              "\n",
              "  <div id=\"df-613c79d8-f15f-4a5e-88f2-d06997aa492c\">\n",
              "    <div class=\"colab-df-container\">\n",
              "      <div>\n",
              "<style scoped>\n",
              "    .dataframe tbody tr th:only-of-type {\n",
              "        vertical-align: middle;\n",
              "    }\n",
              "\n",
              "    .dataframe tbody tr th {\n",
              "        vertical-align: top;\n",
              "    }\n",
              "\n",
              "    .dataframe thead th {\n",
              "        text-align: right;\n",
              "    }\n",
              "</style>\n",
              "<table border=\"1\" class=\"dataframe\">\n",
              "  <thead>\n",
              "    <tr style=\"text-align: right;\">\n",
              "      <th></th>\n",
              "      <th>start_pos</th>\n",
              "      <th>end_pos</th>\n",
              "      <th>nAA</th>\n",
              "      <th>HLA_prob_pred</th>\n",
              "      <th>sequence</th>\n",
              "    </tr>\n",
              "  </thead>\n",
              "  <tbody>\n",
              "    <tr>\n",
              "      <th>0</th>\n",
              "      <td>116</td>\n",
              "      <td>124</td>\n",
              "      <td>8</td>\n",
              "      <td>0.838455</td>\n",
              "      <td>SEWSKLFL</td>\n",
              "    </tr>\n",
              "    <tr>\n",
              "      <th>1</th>\n",
              "      <td>116</td>\n",
              "      <td>126</td>\n",
              "      <td>10</td>\n",
              "      <td>0.774762</td>\n",
              "      <td>SEWSKLFLQF</td>\n",
              "    </tr>\n",
              "    <tr>\n",
              "      <th>2</th>\n",
              "      <td>22</td>\n",
              "      <td>32</td>\n",
              "      <td>10</td>\n",
              "      <td>0.854397</td>\n",
              "      <td>FIIDPGGVIR</td>\n",
              "    </tr>\n",
              "    <tr>\n",
              "      <th>3</th>\n",
              "      <td>72</td>\n",
              "      <td>83</td>\n",
              "      <td>11</td>\n",
              "      <td>0.973126</td>\n",
              "      <td>ATFGVDESNAK</td>\n",
              "    </tr>\n",
              "    <tr>\n",
              "      <th>4</th>\n",
              "      <td>20</td>\n",
              "      <td>32</td>\n",
              "      <td>12</td>\n",
              "      <td>0.839394</td>\n",
              "      <td>GTFIIDPGGVIR</td>\n",
              "    </tr>\n",
              "    <tr>\n",
              "      <th>5</th>\n",
              "      <td>106</td>\n",
              "      <td>119</td>\n",
              "      <td>13</td>\n",
              "      <td>0.752223</td>\n",
              "      <td>VRADVTPADFSEW</td>\n",
              "    </tr>\n",
              "    <tr>\n",
              "      <th>6</th>\n",
              "      <td>22</td>\n",
              "      <td>35</td>\n",
              "      <td>13</td>\n",
              "      <td>0.841694</td>\n",
              "      <td>FIIDPGGVIRGTF</td>\n",
              "    </tr>\n",
              "    <tr>\n",
              "      <th>7</th>\n",
              "      <td>9</td>\n",
              "      <td>23</td>\n",
              "      <td>14</td>\n",
              "      <td>0.718809</td>\n",
              "      <td>RYILAGVENSKGTF</td>\n",
              "    </tr>\n",
              "  </tbody>\n",
              "</table>\n",
              "</div>\n",
              "      <button class=\"colab-df-convert\" onclick=\"convertToInteractive('df-613c79d8-f15f-4a5e-88f2-d06997aa492c')\"\n",
              "              title=\"Convert this dataframe to an interactive table.\"\n",
              "              style=\"display:none;\">\n",
              "        \n",
              "  <svg xmlns=\"http://www.w3.org/2000/svg\" height=\"24px\"viewBox=\"0 0 24 24\"\n",
              "       width=\"24px\">\n",
              "    <path d=\"M0 0h24v24H0V0z\" fill=\"none\"/>\n",
              "    <path d=\"M18.56 5.44l.94 2.06.94-2.06 2.06-.94-2.06-.94-.94-2.06-.94 2.06-2.06.94zm-11 1L8.5 8.5l.94-2.06 2.06-.94-2.06-.94L8.5 2.5l-.94 2.06-2.06.94zm10 10l.94 2.06.94-2.06 2.06-.94-2.06-.94-.94-2.06-.94 2.06-2.06.94z\"/><path d=\"M17.41 7.96l-1.37-1.37c-.4-.4-.92-.59-1.43-.59-.52 0-1.04.2-1.43.59L10.3 9.45l-7.72 7.72c-.78.78-.78 2.05 0 2.83L4 21.41c.39.39.9.59 1.41.59.51 0 1.02-.2 1.41-.59l7.78-7.78 2.81-2.81c.8-.78.8-2.07 0-2.86zM5.41 20L4 18.59l7.72-7.72 1.47 1.35L5.41 20z\"/>\n",
              "  </svg>\n",
              "      </button>\n",
              "      \n",
              "  <style>\n",
              "    .colab-df-container {\n",
              "      display:flex;\n",
              "      flex-wrap:wrap;\n",
              "      gap: 12px;\n",
              "    }\n",
              "\n",
              "    .colab-df-convert {\n",
              "      background-color: #E8F0FE;\n",
              "      border: none;\n",
              "      border-radius: 50%;\n",
              "      cursor: pointer;\n",
              "      display: none;\n",
              "      fill: #1967D2;\n",
              "      height: 32px;\n",
              "      padding: 0 0 0 0;\n",
              "      width: 32px;\n",
              "    }\n",
              "\n",
              "    .colab-df-convert:hover {\n",
              "      background-color: #E2EBFA;\n",
              "      box-shadow: 0px 1px 2px rgba(60, 64, 67, 0.3), 0px 1px 3px 1px rgba(60, 64, 67, 0.15);\n",
              "      fill: #174EA6;\n",
              "    }\n",
              "\n",
              "    [theme=dark] .colab-df-convert {\n",
              "      background-color: #3B4455;\n",
              "      fill: #D2E3FC;\n",
              "    }\n",
              "\n",
              "    [theme=dark] .colab-df-convert:hover {\n",
              "      background-color: #434B5C;\n",
              "      box-shadow: 0px 1px 3px 1px rgba(0, 0, 0, 0.15);\n",
              "      filter: drop-shadow(0px 1px 2px rgba(0, 0, 0, 0.3));\n",
              "      fill: #FFFFFF;\n",
              "    }\n",
              "  </style>\n",
              "\n",
              "      <script>\n",
              "        const buttonEl =\n",
              "          document.querySelector('#df-613c79d8-f15f-4a5e-88f2-d06997aa492c button.colab-df-convert');\n",
              "        buttonEl.style.display =\n",
              "          google.colab.kernel.accessAllowed ? 'block' : 'none';\n",
              "\n",
              "        async function convertToInteractive(key) {\n",
              "          const element = document.querySelector('#df-613c79d8-f15f-4a5e-88f2-d06997aa492c');\n",
              "          const dataTable =\n",
              "            await google.colab.kernel.invokeFunction('convertToInteractive',\n",
              "                                                     [key], {});\n",
              "          if (!dataTable) return;\n",
              "\n",
              "          const docLinkHtml = 'Like what you see? Visit the ' +\n",
              "            '<a target=\"_blank\" href=https://colab.research.google.com/notebooks/data_table.ipynb>data table notebook</a>'\n",
              "            + ' to learn more about interactive tables.';\n",
              "          element.innerHTML = '';\n",
              "          dataTable['output_type'] = 'display_data';\n",
              "          await google.colab.output.renderOutput(dataTable, element);\n",
              "          const docLink = document.createElement('div');\n",
              "          docLink.innerHTML = docLinkHtml;\n",
              "          element.appendChild(docLink);\n",
              "        }\n",
              "      </script>\n",
              "    </div>\n",
              "  </div>\n",
              "  "
            ]
          },
          "metadata": {},
          "execution_count": 10
        }
      ],
      "source": [
        "hla_df = model.predict_from_proteins(prob_threshold=0.7)\n",
        "hla_df"
      ]
    },
    {
      "cell_type": "code",
      "execution_count": 11,
      "metadata": {
        "id": "9YvPRx7qL29w"
      },
      "outputs": [],
      "source": [
        "hla_df.to_csv('Predicted_HLA.tsv',index=False, sep=\"\\t\")"
      ]
    },
    {
      "cell_type": "markdown",
      "source": [
        "To download `Predicted_HLA.tsv` when using Colab, click the `Files` (folder logo) in the left panel and choose the file."
      ],
      "metadata": {
        "id": "QOZ3pZO_h4T2"
      }
    },
    {
      "cell_type": "code",
      "source": [],
      "metadata": {
        "id": "kcks7CpViu2n"
      },
      "execution_count": 11,
      "outputs": []
    }
  ],
  "metadata": {
    "kernelspec": {
      "display_name": "Python 3.8.3 ('base')",
      "language": "python",
      "name": "python3"
    },
    "language_info": {
      "codemirror_mode": {
        "name": "ipython",
        "version": 3
      },
      "file_extension": ".py",
      "mimetype": "text/x-python",
      "name": "python",
      "nbconvert_exporter": "python",
      "pygments_lexer": "ipython3",
      "version": "3.8.3"
    },
    "orig_nbformat": 4,
    "vscode": {
      "interpreter": {
        "hash": "8a3b27e141e49c996c9b863f8707e97aabd49c4a7e8445b9b783b34e4a21a9b2"
      }
    },
    "colab": {
      "provenance": [],
      "include_colab_link": true
    },
    "accelerator": "GPU",
    "gpuClass": "standard"
  },
  "nbformat": 4,
  "nbformat_minor": 0
}
