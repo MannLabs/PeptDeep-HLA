{
  "cells": [
    {
      "cell_type": "markdown",
      "metadata": {
        "id": "view-in-github",
        "colab_type": "text"
      },
      "source": [
        "<a href=\"https://colab.research.google.com/github/jalew188/PeptDeep-HLA/blob/master/nbs/HLA1_transfer.ipynb\" target=\"_parent\"><img src=\"https://colab.research.google.com/assets/colab-badge.svg\" alt=\"Open In Colab\"/></a>"
      ]
    },
    {
      "cell_type": "markdown",
      "metadata": {
        "id": "ZGrZ-8Y8L29n"
      },
      "source": [
        "# Transfer learning of sample-specific HLA-I models"
      ]
    },
    {
      "cell_type": "markdown",
      "source": [
        "> To enable GPU in colab, click `Runtime -> Change runtime type`."
      ],
      "metadata": {
        "id": "iqfP5mDjhBuk"
      }
    },
    {
      "cell_type": "code",
      "source": [
        "%pip install git+https://github.com/MannLabs/PeptDeep-HLA.git"
      ],
      "metadata": {
        "colab": {
          "base_uri": "https://localhost:8080/"
        },
        "id": "S61BkTpcMYzE",
        "outputId": "1d51e35f-5220-4410-bd1a-cef6e09ee662"
      },
      "execution_count": 1,
      "outputs": [
        {
          "output_type": "stream",
          "name": "stdout",
          "text": [
            "Looking in indexes: https://pypi.org/simple, https://us-python.pkg.dev/colab-wheels/public/simple/\n",
            "Collecting git+https://github.com/MannLabs/PeptDeep-HLA.git\n",
            "  Cloning https://github.com/MannLabs/PeptDeep-HLA.git to /tmp/pip-req-build-wrej0ou6\n",
            "  Running command git clone -q https://github.com/MannLabs/PeptDeep-HLA.git /tmp/pip-req-build-wrej0ou6\n",
            "Requirement already satisfied: peptdeep in /usr/local/lib/python3.8/dist-packages (from peptdeep-hla==0.0.1) (0.4.0)\n",
            "Requirement already satisfied: pydivsufsort in /usr/local/lib/python3.8/dist-packages (from peptdeep-hla==0.0.1) (0.0.6)\n",
            "Requirement already satisfied: transformers in /usr/local/lib/python3.8/dist-packages (from peptdeep->peptdeep-hla==0.0.1) (4.25.1)\n",
            "Requirement already satisfied: biopython in /usr/local/lib/python3.8/dist-packages (from peptdeep->peptdeep-hla==0.0.1) (1.80)\n",
            "Requirement already satisfied: tqdm in /usr/local/lib/python3.8/dist-packages (from peptdeep->peptdeep-hla==0.0.1) (4.64.1)\n",
            "Requirement already satisfied: lxml in /usr/local/lib/python3.8/dist-packages (from peptdeep->peptdeep-hla==0.0.1) (4.9.2)\n",
            "Requirement already satisfied: numpy in /usr/local/lib/python3.8/dist-packages (from peptdeep->peptdeep-hla==0.0.1) (1.21.6)\n",
            "Requirement already satisfied: torch in /usr/local/lib/python3.8/dist-packages (from peptdeep->peptdeep-hla==0.0.1) (1.13.0+cu116)\n",
            "Requirement already satisfied: psutil in /usr/local/lib/python3.8/dist-packages (from peptdeep->peptdeep-hla==0.0.1) (5.4.8)\n",
            "Requirement already satisfied: pandas in /usr/local/lib/python3.8/dist-packages (from peptdeep->peptdeep-hla==0.0.1) (1.3.5)\n",
            "Requirement already satisfied: numba in /usr/local/lib/python3.8/dist-packages (from peptdeep->peptdeep-hla==0.0.1) (0.56.4)\n",
            "Requirement already satisfied: scikit-learn in /usr/local/lib/python3.8/dist-packages (from peptdeep->peptdeep-hla==0.0.1) (1.0.2)\n",
            "Requirement already satisfied: alphabase in /usr/local/lib/python3.8/dist-packages (from peptdeep->peptdeep-hla==0.0.1) (0.4.0)\n",
            "Requirement already satisfied: streamlit in /usr/local/lib/python3.8/dist-packages (from peptdeep->peptdeep-hla==0.0.1) (1.16.0)\n",
            "Requirement already satisfied: click in /usr/local/lib/python3.8/dist-packages (from peptdeep->peptdeep-hla==0.0.1) (7.1.2)\n",
            "Requirement already satisfied: streamlit-aggrid in /usr/local/lib/python3.8/dist-packages (from peptdeep->peptdeep-hla==0.0.1) (0.3.3)\n",
            "Requirement already satisfied: h5py in /usr/local/lib/python3.8/dist-packages (from alphabase->peptdeep->peptdeep-hla==0.0.1) (3.1.0)\n",
            "Requirement already satisfied: mmh3 in /usr/local/lib/python3.8/dist-packages (from alphabase->peptdeep->peptdeep-hla==0.0.1) (3.0.0)\n",
            "Requirement already satisfied: regex in /usr/local/lib/python3.8/dist-packages (from alphabase->peptdeep->peptdeep-hla==0.0.1) (2022.6.2)\n",
            "Requirement already satisfied: contextlib2 in /usr/local/lib/python3.8/dist-packages (from alphabase->peptdeep->peptdeep-hla==0.0.1) (0.5.5)\n",
            "Requirement already satisfied: pyyaml in /usr/local/lib/python3.8/dist-packages (from alphabase->peptdeep->peptdeep-hla==0.0.1) (6.0)\n",
            "Requirement already satisfied: setuptools in /usr/local/lib/python3.8/dist-packages (from numba->peptdeep->peptdeep-hla==0.0.1) (57.4.0)\n",
            "Requirement already satisfied: llvmlite<0.40,>=0.39.0dev0 in /usr/local/lib/python3.8/dist-packages (from numba->peptdeep->peptdeep-hla==0.0.1) (0.39.1)\n",
            "Requirement already satisfied: importlib-metadata in /usr/local/lib/python3.8/dist-packages (from numba->peptdeep->peptdeep-hla==0.0.1) (5.1.0)\n",
            "Requirement already satisfied: zipp>=0.5 in /usr/local/lib/python3.8/dist-packages (from importlib-metadata->numba->peptdeep->peptdeep-hla==0.0.1) (3.11.0)\n",
            "Requirement already satisfied: python-dateutil>=2.7.3 in /usr/local/lib/python3.8/dist-packages (from pandas->peptdeep->peptdeep-hla==0.0.1) (2.8.2)\n",
            "Requirement already satisfied: pytz>=2017.3 in /usr/local/lib/python3.8/dist-packages (from pandas->peptdeep->peptdeep-hla==0.0.1) (2022.6)\n",
            "Requirement already satisfied: six>=1.5 in /usr/local/lib/python3.8/dist-packages (from python-dateutil>=2.7.3->pandas->peptdeep->peptdeep-hla==0.0.1) (1.15.0)\n",
            "Requirement already satisfied: wheel in /usr/local/lib/python3.8/dist-packages (from pydivsufsort->peptdeep-hla==0.0.1) (0.38.4)\n",
            "Requirement already satisfied: joblib>=0.11 in /usr/local/lib/python3.8/dist-packages (from scikit-learn->peptdeep->peptdeep-hla==0.0.1) (1.2.0)\n",
            "Requirement already satisfied: threadpoolctl>=2.0.0 in /usr/local/lib/python3.8/dist-packages (from scikit-learn->peptdeep->peptdeep-hla==0.0.1) (3.1.0)\n",
            "Requirement already satisfied: scipy>=1.1.0 in /usr/local/lib/python3.8/dist-packages (from scikit-learn->peptdeep->peptdeep-hla==0.0.1) (1.7.3)\n",
            "Requirement already satisfied: cachetools>=4.0 in /usr/local/lib/python3.8/dist-packages (from streamlit->peptdeep->peptdeep-hla==0.0.1) (5.2.0)\n",
            "Requirement already satisfied: tornado>=5.0 in /usr/local/lib/python3.8/dist-packages (from streamlit->peptdeep->peptdeep-hla==0.0.1) (6.0.4)\n",
            "Requirement already satisfied: blinker>=1.0.0 in /usr/local/lib/python3.8/dist-packages (from streamlit->peptdeep->peptdeep-hla==0.0.1) (1.5)\n",
            "Requirement already satisfied: altair>=3.2.0 in /usr/local/lib/python3.8/dist-packages (from streamlit->peptdeep->peptdeep-hla==0.0.1) (4.2.0)\n",
            "Requirement already satisfied: typing-extensions>=3.10.0.0 in /usr/local/lib/python3.8/dist-packages (from streamlit->peptdeep->peptdeep-hla==0.0.1) (4.4.0)\n",
            "Requirement already satisfied: validators>=0.2 in /usr/local/lib/python3.8/dist-packages (from streamlit->peptdeep->peptdeep-hla==0.0.1) (0.20.0)\n",
            "Requirement already satisfied: toml in /usr/local/lib/python3.8/dist-packages (from streamlit->peptdeep->peptdeep-hla==0.0.1) (0.10.2)\n",
            "Requirement already satisfied: pillow>=6.2.0 in /usr/local/lib/python3.8/dist-packages (from streamlit->peptdeep->peptdeep-hla==0.0.1) (7.1.2)\n",
            "Requirement already satisfied: pympler>=0.9 in /usr/local/lib/python3.8/dist-packages (from streamlit->peptdeep->peptdeep-hla==0.0.1) (1.0.1)\n",
            "Requirement already satisfied: requests>=2.4 in /usr/local/lib/python3.8/dist-packages (from streamlit->peptdeep->peptdeep-hla==0.0.1) (2.23.0)\n",
            "Requirement already satisfied: pydeck>=0.1.dev5 in /usr/local/lib/python3.8/dist-packages (from streamlit->peptdeep->peptdeep-hla==0.0.1) (0.8.0)\n",
            "Requirement already satisfied: packaging>=14.1 in /usr/local/lib/python3.8/dist-packages (from streamlit->peptdeep->peptdeep-hla==0.0.1) (21.3)\n",
            "Requirement already satisfied: pyarrow>=4.0 in /usr/local/lib/python3.8/dist-packages (from streamlit->peptdeep->peptdeep-hla==0.0.1) (9.0.0)\n",
            "Requirement already satisfied: watchdog in /usr/local/lib/python3.8/dist-packages (from streamlit->peptdeep->peptdeep-hla==0.0.1) (2.2.0)\n",
            "Requirement already satisfied: gitpython!=3.1.19 in /usr/local/lib/python3.8/dist-packages (from streamlit->peptdeep->peptdeep-hla==0.0.1) (3.1.30)\n",
            "Requirement already satisfied: protobuf<4,>=3.12 in /usr/local/lib/python3.8/dist-packages (from streamlit->peptdeep->peptdeep-hla==0.0.1) (3.19.6)\n",
            "Requirement already satisfied: tzlocal>=1.1 in /usr/local/lib/python3.8/dist-packages (from streamlit->peptdeep->peptdeep-hla==0.0.1) (1.5.1)\n",
            "Requirement already satisfied: semver in /usr/local/lib/python3.8/dist-packages (from streamlit->peptdeep->peptdeep-hla==0.0.1) (2.13.0)\n",
            "Requirement already satisfied: rich>=10.11.0 in /usr/local/lib/python3.8/dist-packages (from streamlit->peptdeep->peptdeep-hla==0.0.1) (12.6.0)\n",
            "Requirement already satisfied: entrypoints in /usr/local/lib/python3.8/dist-packages (from altair>=3.2.0->streamlit->peptdeep->peptdeep-hla==0.0.1) (0.4)\n",
            "Requirement already satisfied: jinja2 in /usr/local/lib/python3.8/dist-packages (from altair>=3.2.0->streamlit->peptdeep->peptdeep-hla==0.0.1) (2.11.3)\n",
            "Requirement already satisfied: jsonschema>=3.0 in /usr/local/lib/python3.8/dist-packages (from altair>=3.2.0->streamlit->peptdeep->peptdeep-hla==0.0.1) (4.3.3)\n",
            "Requirement already satisfied: toolz in /usr/local/lib/python3.8/dist-packages (from altair>=3.2.0->streamlit->peptdeep->peptdeep-hla==0.0.1) (0.12.0)\n",
            "Requirement already satisfied: gitdb<5,>=4.0.1 in /usr/local/lib/python3.8/dist-packages (from gitpython!=3.1.19->streamlit->peptdeep->peptdeep-hla==0.0.1) (4.0.10)\n",
            "Requirement already satisfied: smmap<6,>=3.0.1 in /usr/local/lib/python3.8/dist-packages (from gitdb<5,>=4.0.1->gitpython!=3.1.19->streamlit->peptdeep->peptdeep-hla==0.0.1) (5.0.0)\n",
            "Requirement already satisfied: importlib-resources>=1.4.0 in /usr/local/lib/python3.8/dist-packages (from jsonschema>=3.0->altair>=3.2.0->streamlit->peptdeep->peptdeep-hla==0.0.1) (5.10.1)\n",
            "Requirement already satisfied: attrs>=17.4.0 in /usr/local/lib/python3.8/dist-packages (from jsonschema>=3.0->altair>=3.2.0->streamlit->peptdeep->peptdeep-hla==0.0.1) (22.1.0)\n",
            "Requirement already satisfied: pyrsistent!=0.17.0,!=0.17.1,!=0.17.2,>=0.14.0 in /usr/local/lib/python3.8/dist-packages (from jsonschema>=3.0->altair>=3.2.0->streamlit->peptdeep->peptdeep-hla==0.0.1) (0.19.2)\n",
            "Requirement already satisfied: pyparsing!=3.0.5,>=2.0.2 in /usr/local/lib/python3.8/dist-packages (from packaging>=14.1->streamlit->peptdeep->peptdeep-hla==0.0.1) (3.0.9)\n",
            "Requirement already satisfied: MarkupSafe>=0.23 in /usr/local/lib/python3.8/dist-packages (from jinja2->altair>=3.2.0->streamlit->peptdeep->peptdeep-hla==0.0.1) (2.0.1)\n",
            "Requirement already satisfied: certifi>=2017.4.17 in /usr/local/lib/python3.8/dist-packages (from requests>=2.4->streamlit->peptdeep->peptdeep-hla==0.0.1) (2022.12.7)\n",
            "Requirement already satisfied: chardet<4,>=3.0.2 in /usr/local/lib/python3.8/dist-packages (from requests>=2.4->streamlit->peptdeep->peptdeep-hla==0.0.1) (3.0.4)\n",
            "Requirement already satisfied: idna<3,>=2.5 in /usr/local/lib/python3.8/dist-packages (from requests>=2.4->streamlit->peptdeep->peptdeep-hla==0.0.1) (2.10)\n",
            "Requirement already satisfied: urllib3!=1.25.0,!=1.25.1,<1.26,>=1.21.1 in /usr/local/lib/python3.8/dist-packages (from requests>=2.4->streamlit->peptdeep->peptdeep-hla==0.0.1) (1.24.3)\n",
            "Requirement already satisfied: pygments<3.0.0,>=2.6.0 in /usr/local/lib/python3.8/dist-packages (from rich>=10.11.0->streamlit->peptdeep->peptdeep-hla==0.0.1) (2.6.1)\n",
            "Requirement already satisfied: commonmark<0.10.0,>=0.9.0 in /usr/local/lib/python3.8/dist-packages (from rich>=10.11.0->streamlit->peptdeep->peptdeep-hla==0.0.1) (0.9.1)\n",
            "Requirement already satisfied: decorator>=3.4.0 in /usr/local/lib/python3.8/dist-packages (from validators>=0.2->streamlit->peptdeep->peptdeep-hla==0.0.1) (4.4.2)\n",
            "Requirement already satisfied: python-decouple<4.0,>=3.6 in /usr/local/lib/python3.8/dist-packages (from streamlit-aggrid->peptdeep->peptdeep-hla==0.0.1) (3.6)\n",
            "Requirement already satisfied: filelock in /usr/local/lib/python3.8/dist-packages (from transformers->peptdeep->peptdeep-hla==0.0.1) (3.8.2)\n",
            "Requirement already satisfied: tokenizers!=0.11.3,<0.14,>=0.11.1 in /usr/local/lib/python3.8/dist-packages (from transformers->peptdeep->peptdeep-hla==0.0.1) (0.13.2)\n",
            "Requirement already satisfied: huggingface-hub<1.0,>=0.10.0 in /usr/local/lib/python3.8/dist-packages (from transformers->peptdeep->peptdeep-hla==0.0.1) (0.11.1)\n"
          ]
        }
      ]
    },
    {
      "cell_type": "code",
      "source": [
        "%pip install gdown"
      ],
      "metadata": {
        "colab": {
          "base_uri": "https://localhost:8080/"
        },
        "id": "J89cDtDlNlVZ",
        "outputId": "79cf8bc4-7bc1-45ee-ccaa-7946eac53f14"
      },
      "execution_count": 2,
      "outputs": [
        {
          "output_type": "stream",
          "name": "stdout",
          "text": [
            "Looking in indexes: https://pypi.org/simple, https://us-python.pkg.dev/colab-wheels/public/simple/\n",
            "Requirement already satisfied: gdown in /usr/local/lib/python3.8/dist-packages (4.4.0)\n",
            "Requirement already satisfied: beautifulsoup4 in /usr/local/lib/python3.8/dist-packages (from gdown) (4.6.3)\n",
            "Requirement already satisfied: filelock in /usr/local/lib/python3.8/dist-packages (from gdown) (3.8.2)\n",
            "Requirement already satisfied: tqdm in /usr/local/lib/python3.8/dist-packages (from gdown) (4.64.1)\n",
            "Requirement already satisfied: requests[socks] in /usr/local/lib/python3.8/dist-packages (from gdown) (2.23.0)\n",
            "Requirement already satisfied: six in /usr/local/lib/python3.8/dist-packages (from gdown) (1.15.0)\n",
            "Requirement already satisfied: chardet<4,>=3.0.2 in /usr/local/lib/python3.8/dist-packages (from requests[socks]->gdown) (3.0.4)\n",
            "Requirement already satisfied: urllib3!=1.25.0,!=1.25.1,<1.26,>=1.21.1 in /usr/local/lib/python3.8/dist-packages (from requests[socks]->gdown) (1.24.3)\n",
            "Requirement already satisfied: idna<3,>=2.5 in /usr/local/lib/python3.8/dist-packages (from requests[socks]->gdown) (2.10)\n",
            "Requirement already satisfied: certifi>=2017.4.17 in /usr/local/lib/python3.8/dist-packages (from requests[socks]->gdown) (2022.12.7)\n",
            "Requirement already satisfied: PySocks!=1.5.7,>=1.5.6 in /usr/local/lib/python3.8/dist-packages (from requests[socks]->gdown) (1.7.1)\n"
          ]
        }
      ]
    },
    {
      "cell_type": "code",
      "execution_count": 3,
      "metadata": {
        "id": "nsWmRQB9L29q",
        "colab": {
          "base_uri": "https://localhost:8080/",
          "height": 109
        },
        "outputId": "7f259c48-58cf-4063-b231-9e4d4ac81f86"
      },
      "outputs": [
        {
          "output_type": "stream",
          "name": "stderr",
          "text": [
            "Downloading...\n",
            "From: https://drive.google.com/uc?id=1V9KxDniKwZFZnHlP58EbjkuelNJnp1Kq\n",
            "To: /content/UP000005640_human_reviewed.fasta\n",
            "100%|██████████| 13.6M/13.6M [00:00<00:00, 160MB/s]\n"
          ]
        },
        {
          "output_type": "execute_result",
          "data": {
            "text/plain": [
              "'UP000005640_human_reviewed.fasta'"
            ],
            "application/vnd.google.colaboratory.intrinsic+json": {
              "type": "string"
            }
          },
          "metadata": {},
          "execution_count": 3
        }
      ],
      "source": [
        "import gdown\n",
        "\n",
        "fasta_url = \"https://drive.google.com/file/d/1V9KxDniKwZFZnHlP58EbjkuelNJnp1Kq/view?usp=share_link\"\n",
        "fasta = 'UP000005640_human_reviewed.fasta'\n",
        "\n",
        "gdown.download(fasta_url, fasta, fuzzy=True)"
      ]
    },
    {
      "cell_type": "markdown",
      "metadata": {
        "id": "2pkHRHP3L29r"
      },
      "source": [
        "#### Load training HLA peptides\n",
        "\n",
        "It could be a tsv/csv/txt file containing sample-specific HLA-I peptides. It must contain 'sequence' column. "
      ]
    },
    {
      "cell_type": "code",
      "execution_count": 4,
      "metadata": {
        "id": "mCYWE7fUL29s",
        "outputId": "54e718d0-78b5-4540-bca2-01bb70c6d5bb",
        "colab": {
          "base_uri": "https://localhost:8080/",
          "height": 206
        }
      },
      "outputs": [
        {
          "output_type": "execute_result",
          "data": {
            "text/plain": [
              "         sequence  nAA\n",
              "0  ACDEFGHIKLMNPQ   14\n",
              "1        ACDEFGHI    8\n",
              "2       ACDEFGHIK    9\n",
              "3     EFGHIKLMNPQ   11\n",
              "4       AHIKLMNPQ    9"
            ],
            "text/html": [
              "\n",
              "  <div id=\"df-86b74ae8-bf50-4a43-aa7e-7409d250d163\">\n",
              "    <div class=\"colab-df-container\">\n",
              "      <div>\n",
              "<style scoped>\n",
              "    .dataframe tbody tr th:only-of-type {\n",
              "        vertical-align: middle;\n",
              "    }\n",
              "\n",
              "    .dataframe tbody tr th {\n",
              "        vertical-align: top;\n",
              "    }\n",
              "\n",
              "    .dataframe thead th {\n",
              "        text-align: right;\n",
              "    }\n",
              "</style>\n",
              "<table border=\"1\" class=\"dataframe\">\n",
              "  <thead>\n",
              "    <tr style=\"text-align: right;\">\n",
              "      <th></th>\n",
              "      <th>sequence</th>\n",
              "      <th>nAA</th>\n",
              "    </tr>\n",
              "  </thead>\n",
              "  <tbody>\n",
              "    <tr>\n",
              "      <th>0</th>\n",
              "      <td>ACDEFGHIKLMNPQ</td>\n",
              "      <td>14</td>\n",
              "    </tr>\n",
              "    <tr>\n",
              "      <th>1</th>\n",
              "      <td>ACDEFGHI</td>\n",
              "      <td>8</td>\n",
              "    </tr>\n",
              "    <tr>\n",
              "      <th>2</th>\n",
              "      <td>ACDEFGHIK</td>\n",
              "      <td>9</td>\n",
              "    </tr>\n",
              "    <tr>\n",
              "      <th>3</th>\n",
              "      <td>EFGHIKLMNPQ</td>\n",
              "      <td>11</td>\n",
              "    </tr>\n",
              "    <tr>\n",
              "      <th>4</th>\n",
              "      <td>AHIKLMNPQ</td>\n",
              "      <td>9</td>\n",
              "    </tr>\n",
              "  </tbody>\n",
              "</table>\n",
              "</div>\n",
              "      <button class=\"colab-df-convert\" onclick=\"convertToInteractive('df-86b74ae8-bf50-4a43-aa7e-7409d250d163')\"\n",
              "              title=\"Convert this dataframe to an interactive table.\"\n",
              "              style=\"display:none;\">\n",
              "        \n",
              "  <svg xmlns=\"http://www.w3.org/2000/svg\" height=\"24px\"viewBox=\"0 0 24 24\"\n",
              "       width=\"24px\">\n",
              "    <path d=\"M0 0h24v24H0V0z\" fill=\"none\"/>\n",
              "    <path d=\"M18.56 5.44l.94 2.06.94-2.06 2.06-.94-2.06-.94-.94-2.06-.94 2.06-2.06.94zm-11 1L8.5 8.5l.94-2.06 2.06-.94-2.06-.94L8.5 2.5l-.94 2.06-2.06.94zm10 10l.94 2.06.94-2.06 2.06-.94-2.06-.94-.94-2.06-.94 2.06-2.06.94z\"/><path d=\"M17.41 7.96l-1.37-1.37c-.4-.4-.92-.59-1.43-.59-.52 0-1.04.2-1.43.59L10.3 9.45l-7.72 7.72c-.78.78-.78 2.05 0 2.83L4 21.41c.39.39.9.59 1.41.59.51 0 1.02-.2 1.41-.59l7.78-7.78 2.81-2.81c.8-.78.8-2.07 0-2.86zM5.41 20L4 18.59l7.72-7.72 1.47 1.35L5.41 20z\"/>\n",
              "  </svg>\n",
              "      </button>\n",
              "      \n",
              "  <style>\n",
              "    .colab-df-container {\n",
              "      display:flex;\n",
              "      flex-wrap:wrap;\n",
              "      gap: 12px;\n",
              "    }\n",
              "\n",
              "    .colab-df-convert {\n",
              "      background-color: #E8F0FE;\n",
              "      border: none;\n",
              "      border-radius: 50%;\n",
              "      cursor: pointer;\n",
              "      display: none;\n",
              "      fill: #1967D2;\n",
              "      height: 32px;\n",
              "      padding: 0 0 0 0;\n",
              "      width: 32px;\n",
              "    }\n",
              "\n",
              "    .colab-df-convert:hover {\n",
              "      background-color: #E2EBFA;\n",
              "      box-shadow: 0px 1px 2px rgba(60, 64, 67, 0.3), 0px 1px 3px 1px rgba(60, 64, 67, 0.15);\n",
              "      fill: #174EA6;\n",
              "    }\n",
              "\n",
              "    [theme=dark] .colab-df-convert {\n",
              "      background-color: #3B4455;\n",
              "      fill: #D2E3FC;\n",
              "    }\n",
              "\n",
              "    [theme=dark] .colab-df-convert:hover {\n",
              "      background-color: #434B5C;\n",
              "      box-shadow: 0px 1px 3px 1px rgba(0, 0, 0, 0.15);\n",
              "      filter: drop-shadow(0px 1px 2px rgba(0, 0, 0, 0.3));\n",
              "      fill: #FFFFFF;\n",
              "    }\n",
              "  </style>\n",
              "\n",
              "      <script>\n",
              "        const buttonEl =\n",
              "          document.querySelector('#df-86b74ae8-bf50-4a43-aa7e-7409d250d163 button.colab-df-convert');\n",
              "        buttonEl.style.display =\n",
              "          google.colab.kernel.accessAllowed ? 'block' : 'none';\n",
              "\n",
              "        async function convertToInteractive(key) {\n",
              "          const element = document.querySelector('#df-86b74ae8-bf50-4a43-aa7e-7409d250d163');\n",
              "          const dataTable =\n",
              "            await google.colab.kernel.invokeFunction('convertToInteractive',\n",
              "                                                     [key], {});\n",
              "          if (!dataTable) return;\n",
              "\n",
              "          const docLinkHtml = 'Like what you see? Visit the ' +\n",
              "            '<a target=\"_blank\" href=https://colab.research.google.com/notebooks/data_table.ipynb>data table notebook</a>'\n",
              "            + ' to learn more about interactive tables.';\n",
              "          element.innerHTML = '';\n",
              "          dataTable['output_type'] = 'display_data';\n",
              "          await google.colab.output.renderOutput(dataTable, element);\n",
              "          const docLink = document.createElement('div');\n",
              "          docLink.innerHTML = docLinkHtml;\n",
              "          element.appendChild(docLink);\n",
              "        }\n",
              "      </script>\n",
              "    </div>\n",
              "  </div>\n",
              "  "
            ]
          },
          "metadata": {},
          "execution_count": 4
        }
      ],
      "source": [
        "import pandas as pd\n",
        "train_seq_df = pd.DataFrame({\n",
        "    'sequence': [\n",
        "        'ACDEFGHIKLMNPQ',\n",
        "        'ACDEFGHI',\n",
        "        'ACDEFGHIK',\n",
        "        'EFGHIKLMNPQ',\n",
        "        'AHIKLMNPQ',\n",
        "    ]\n",
        "})\n",
        "train_seq_df['nAA'] = train_seq_df.sequence.str.len()\n",
        "train_seq_df"
      ]
    },
    {
      "cell_type": "markdown",
      "metadata": {
        "id": "KeAM4pb-L29t"
      },
      "source": [
        "#### Initialize the model and load the pretrained model"
      ]
    },
    {
      "cell_type": "code",
      "execution_count": 5,
      "metadata": {
        "id": "w1kL20zsL29t",
        "outputId": "0ee71f10-27d9-4950-ca56-9ee6812204ad",
        "colab": {
          "base_uri": "https://localhost:8080/"
        }
      },
      "outputs": [
        {
          "output_type": "execute_result",
          "data": {
            "text/plain": [
              "1669697"
            ]
          },
          "metadata": {},
          "execution_count": 5
        }
      ],
      "source": [
        "from peptdeep_hla.HLA_class_I import HLA_Class_I_Classifier\n",
        "model = HLA_Class_I_Classifier(\n",
        "    fasta_files=[fasta]\n",
        ")\n",
        "model.get_parameter_num()"
      ]
    },
    {
      "cell_type": "code",
      "execution_count": 6,
      "metadata": {
        "id": "zSDxcbPBL29u",
        "outputId": "1ab885b8-f21d-49df-8bce-fd38dc3975a2",
        "colab": {
          "base_uri": "https://localhost:8080/",
          "height": 35
        }
      },
      "outputs": [
        {
          "output_type": "execute_result",
          "data": {
            "text/plain": [
              "'/usr/local/lib/python3.8/dist-packages/peptdeep_hla/pretrained_models/HLA1_IEDB.pt'"
            ],
            "application/vnd.google.colaboratory.intrinsic+json": {
              "type": "string"
            }
          },
          "metadata": {},
          "execution_count": 6
        }
      ],
      "source": [
        "from peptdeep_hla.HLA_class_I import pretrained_HLA1\n",
        "model.load(pretrained_HLA1)\n",
        "pretrained_HLA1"
      ]
    },
    {
      "cell_type": "markdown",
      "metadata": {
        "id": "QfAZ5MHCL29u"
      },
      "source": [
        "#### Train by the training peptides\n",
        "\n",
        "The non-HLA peptides are automatically sampled from the fasta file as the negative training data."
      ]
    },
    {
      "cell_type": "code",
      "execution_count": 7,
      "metadata": {
        "id": "Esk0H_VTL29v",
        "outputId": "70ef215b-217f-456d-cd63-f5ddf3f2c674",
        "colab": {
          "base_uri": "https://localhost:8080/"
        }
      },
      "outputs": [
        {
          "output_type": "stream",
          "name": "stdout",
          "text": [
            "[Training] Epoch=1, lr=5e-05, loss=1.484032779932022\n",
            "[Training] Epoch=2, lr=0.0001, loss=1.4480046033859253\n",
            "[Training] Epoch=3, lr=5e-05, loss=0.8671623691916466\n",
            "[Training] Epoch=4, lr=0.0, loss=0.3142213933169842\n"
          ]
        }
      ],
      "source": [
        "model.train(\n",
        "    train_seq_df, \n",
        "    epoch=40, warmup_epoch=10, \n",
        "    verbose=True\n",
        ")"
      ]
    },
    {
      "cell_type": "markdown",
      "metadata": {
        "id": "_XNHZixOL29w"
      },
      "source": [
        "#### Predict HLA-I peptides from fasta"
      ]
    },
    {
      "cell_type": "code",
      "execution_count": null,
      "metadata": {
        "id": "kzNnoQjyL29w",
        "outputId": "9e230b08-7d81-43f8-d677-324f4e6e996c",
        "colab": {
          "base_uri": "https://localhost:8080/"
        }
      },
      "outputs": [
        {
          "output_type": "stream",
          "name": "stderr",
          "text": [
            "/usr/local/lib/python3.8/dist-packages/pydivsufsort/divsufsort.py:76: UserWarning: converting str argument uses more memory\n",
            "  warnings.warn(\"converting str argument uses more memory\")\n",
            "/usr/local/lib/python3.8/dist-packages/alphabase/protein/lcp_digest.py:7: UserWarning: converting str argument uses more memory\n",
            "  lcp_array = kasai(cat_prot, suffix_array)\n",
            " 12%|█▎        | 9/72 [2:13:16<15:29:20, 885.09s/it]"
          ]
        }
      ],
      "source": [
        "hla_df = model.predict_from_proteins(prob_threshold=0.7)\n",
        "hla_df"
      ]
    },
    {
      "cell_type": "code",
      "execution_count": null,
      "metadata": {
        "id": "9YvPRx7qL29w"
      },
      "outputs": [],
      "source": [
        "hla_df.to_csv('Predicted_HLA.tsv',index=False, sep=\"\\t\")"
      ]
    },
    {
      "cell_type": "markdown",
      "source": [
        "To download `Predicted_HLA.tsv`, click the `Files` (folder logo) in the left panel and choose the file."
      ],
      "metadata": {
        "id": "QOZ3pZO_h4T2"
      }
    },
    {
      "cell_type": "code",
      "source": [],
      "metadata": {
        "id": "kcks7CpViu2n"
      },
      "execution_count": null,
      "outputs": []
    }
  ],
  "metadata": {
    "kernelspec": {
      "display_name": "Python 3.8.3 ('base')",
      "language": "python",
      "name": "python3"
    },
    "language_info": {
      "codemirror_mode": {
        "name": "ipython",
        "version": 3
      },
      "file_extension": ".py",
      "mimetype": "text/x-python",
      "name": "python",
      "nbconvert_exporter": "python",
      "pygments_lexer": "ipython3",
      "version": "3.8.3"
    },
    "orig_nbformat": 4,
    "vscode": {
      "interpreter": {
        "hash": "8a3b27e141e49c996c9b863f8707e97aabd49c4a7e8445b9b783b34e4a21a9b2"
      }
    },
    "colab": {
      "provenance": [],
      "include_colab_link": true
    },
    "accelerator": "GPU",
    "gpuClass": "standard"
  },
  "nbformat": 4,
  "nbformat_minor": 0
}