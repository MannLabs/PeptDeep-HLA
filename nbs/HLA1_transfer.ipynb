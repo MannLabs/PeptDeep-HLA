{
 "cells": [
  {
   "cell_type": "markdown",
   "metadata": {},
   "source": [
    "# Transfer learning of sample-specific HLA-I models"
   ]
  },
  {
   "cell_type": "code",
   "execution_count": 1,
   "metadata": {},
   "outputs": [],
   "source": [
    "fasta = '/Users/zengwenfeng/Workspace/Data/fasta/irtfusion.fasta'"
   ]
  },
  {
   "cell_type": "markdown",
   "metadata": {},
   "source": [
    "#### Load training HLA peptides\n",
    "\n",
    "It could be a tsv/csv/txt file containing sample-specific HLA-I peptides. It must contain 'sequence' column. "
   ]
  },
  {
   "cell_type": "code",
   "execution_count": 2,
   "metadata": {},
   "outputs": [
    {
     "data": {
      "text/html": [
       "<div>\n",
       "<style scoped>\n",
       "    .dataframe tbody tr th:only-of-type {\n",
       "        vertical-align: middle;\n",
       "    }\n",
       "\n",
       "    .dataframe tbody tr th {\n",
       "        vertical-align: top;\n",
       "    }\n",
       "\n",
       "    .dataframe thead th {\n",
       "        text-align: right;\n",
       "    }\n",
       "</style>\n",
       "<table border=\"1\" class=\"dataframe\">\n",
       "  <thead>\n",
       "    <tr style=\"text-align: right;\">\n",
       "      <th></th>\n",
       "      <th>sequence</th>\n",
       "      <th>nAA</th>\n",
       "    </tr>\n",
       "  </thead>\n",
       "  <tbody>\n",
       "    <tr>\n",
       "      <th>0</th>\n",
       "      <td>ACDEFGHIKLMNPQ</td>\n",
       "      <td>14</td>\n",
       "    </tr>\n",
       "    <tr>\n",
       "      <th>1</th>\n",
       "      <td>ACDEFGHI</td>\n",
       "      <td>8</td>\n",
       "    </tr>\n",
       "    <tr>\n",
       "      <th>2</th>\n",
       "      <td>ACDEFGHIK</td>\n",
       "      <td>9</td>\n",
       "    </tr>\n",
       "    <tr>\n",
       "      <th>3</th>\n",
       "      <td>EFGHIKLMNPQ</td>\n",
       "      <td>11</td>\n",
       "    </tr>\n",
       "    <tr>\n",
       "      <th>4</th>\n",
       "      <td>AHIKLMNPQ</td>\n",
       "      <td>9</td>\n",
       "    </tr>\n",
       "  </tbody>\n",
       "</table>\n",
       "</div>"
      ],
      "text/plain": [
       "         sequence  nAA\n",
       "0  ACDEFGHIKLMNPQ   14\n",
       "1        ACDEFGHI    8\n",
       "2       ACDEFGHIK    9\n",
       "3     EFGHIKLMNPQ   11\n",
       "4       AHIKLMNPQ    9"
      ]
     },
     "execution_count": 2,
     "metadata": {},
     "output_type": "execute_result"
    }
   ],
   "source": [
    "import pandas as pd\n",
    "train_seq_df = pd.DataFrame({\n",
    "    'sequence': [\n",
    "        'ACDEFGHIKLMNPQ',\n",
    "        'ACDEFGHI',\n",
    "        'ACDEFGHIK',\n",
    "        'EFGHIKLMNPQ',\n",
    "        'AHIKLMNPQ',\n",
    "    ]\n",
    "})\n",
    "train_seq_df['nAA'] = train_seq_df.sequence.str.len()\n",
    "train_seq_df"
   ]
  },
  {
   "cell_type": "markdown",
   "metadata": {},
   "source": [
    "#### Initialize the model and load the pretrained model"
   ]
  },
  {
   "cell_type": "code",
   "execution_count": 3,
   "metadata": {},
   "outputs": [
    {
     "data": {
      "text/plain": [
       "1669697"
      ]
     },
     "execution_count": 3,
     "metadata": {},
     "output_type": "execute_result"
    }
   ],
   "source": [
    "from peptdeep_hla.HLA_class_I import HLA_Class_I_Classifier\n",
    "model = HLA_Class_I_Classifier(\n",
    "    fasta_files=[fasta]\n",
    ")\n",
    "model.get_parameter_num()"
   ]
  },
  {
   "cell_type": "code",
   "execution_count": 4,
   "metadata": {},
   "outputs": [
    {
     "data": {
      "text/plain": [
       "'/Users/zengwenfeng/Workspace/PeptDeep-HLA/peptdeep_hla/pretrained_models/HLA1_IEDB.pt'"
      ]
     },
     "execution_count": 4,
     "metadata": {},
     "output_type": "execute_result"
    }
   ],
   "source": [
    "from peptdeep_hla.HLA_class_I import pretrained_HLA1\n",
    "model.load(pretrained_HLA1)\n",
    "pretrained_HLA1"
   ]
  },
  {
   "cell_type": "markdown",
   "metadata": {},
   "source": [
    "#### Train by the training peptides\n",
    "\n",
    "The non-HLA peptides are automatically sampled from the fasta file as the negative training data."
   ]
  },
  {
   "cell_type": "code",
   "execution_count": 5,
   "metadata": {},
   "outputs": [
    {
     "name": "stdout",
     "output_type": "stream",
     "text": [
      "[Training] Epoch=1, lr=5e-05, loss=1.9179210364818573\n",
      "[Training] Epoch=2, lr=0.0001, loss=1.48900505900383\n",
      "[Training] Epoch=3, lr=5e-05, loss=0.7419157139956951\n",
      "[Training] Epoch=4, lr=0.0, loss=0.4912389740347862\n"
     ]
    }
   ],
   "source": [
    "model.train(\n",
    "    train_seq_df, \n",
    "    epoch=4, warmup_epoch=2, \n",
    "    verbose=True\n",
    ")"
   ]
  },
  {
   "cell_type": "markdown",
   "metadata": {},
   "source": [
    "#### Predict HLA-I peptides from fasta"
   ]
  },
  {
   "cell_type": "code",
   "execution_count": 6,
   "metadata": {},
   "outputs": [
    {
     "name": "stderr",
     "output_type": "stream",
     "text": [
      "100%|██████████| 1/1 [00:00<00:00,  1.33it/s]\n"
     ]
    },
    {
     "data": {
      "text/html": [
       "<div>\n",
       "<style scoped>\n",
       "    .dataframe tbody tr th:only-of-type {\n",
       "        vertical-align: middle;\n",
       "    }\n",
       "\n",
       "    .dataframe tbody tr th {\n",
       "        vertical-align: top;\n",
       "    }\n",
       "\n",
       "    .dataframe thead th {\n",
       "        text-align: right;\n",
       "    }\n",
       "</style>\n",
       "<table border=\"1\" class=\"dataframe\">\n",
       "  <thead>\n",
       "    <tr style=\"text-align: right;\">\n",
       "      <th></th>\n",
       "      <th>start_pos</th>\n",
       "      <th>end_pos</th>\n",
       "      <th>nAA</th>\n",
       "      <th>HLA_prob_pred</th>\n",
       "      <th>sequence</th>\n",
       "    </tr>\n",
       "  </thead>\n",
       "  <tbody>\n",
       "    <tr>\n",
       "      <th>0</th>\n",
       "      <td>53</td>\n",
       "      <td>61</td>\n",
       "      <td>8</td>\n",
       "      <td>0.760860</td>\n",
       "      <td>GLDAKTPV</td>\n",
       "    </tr>\n",
       "    <tr>\n",
       "      <th>1</th>\n",
       "      <td>54</td>\n",
       "      <td>62</td>\n",
       "      <td>8</td>\n",
       "      <td>0.832445</td>\n",
       "      <td>LDAKTPVI</td>\n",
       "    </tr>\n",
       "    <tr>\n",
       "      <th>2</th>\n",
       "      <td>61</td>\n",
       "      <td>69</td>\n",
       "      <td>8</td>\n",
       "      <td>0.707884</td>\n",
       "      <td>ISGGPYEY</td>\n",
       "    </tr>\n",
       "    <tr>\n",
       "      <th>3</th>\n",
       "      <td>66</td>\n",
       "      <td>74</td>\n",
       "      <td>8</td>\n",
       "      <td>0.818252</td>\n",
       "      <td>YEYRVEAT</td>\n",
       "    </tr>\n",
       "    <tr>\n",
       "      <th>4</th>\n",
       "      <td>67</td>\n",
       "      <td>75</td>\n",
       "      <td>8</td>\n",
       "      <td>0.890302</td>\n",
       "      <td>EYRVEATF</td>\n",
       "    </tr>\n",
       "    <tr>\n",
       "      <th>...</th>\n",
       "      <td>...</td>\n",
       "      <td>...</td>\n",
       "      <td>...</td>\n",
       "      <td>...</td>\n",
       "      <td>...</td>\n",
       "    </tr>\n",
       "    <tr>\n",
       "      <th>189</th>\n",
       "      <td>78</td>\n",
       "      <td>92</td>\n",
       "      <td>14</td>\n",
       "      <td>0.749335</td>\n",
       "      <td>ESNAKTPVITGAPY</td>\n",
       "    </tr>\n",
       "    <tr>\n",
       "      <th>190</th>\n",
       "      <td>79</td>\n",
       "      <td>93</td>\n",
       "      <td>14</td>\n",
       "      <td>0.866187</td>\n",
       "      <td>SNAKTPVITGAPYE</td>\n",
       "    </tr>\n",
       "    <tr>\n",
       "      <th>191</th>\n",
       "      <td>80</td>\n",
       "      <td>94</td>\n",
       "      <td>14</td>\n",
       "      <td>0.921481</td>\n",
       "      <td>NAKTPVITGAPYEY</td>\n",
       "    </tr>\n",
       "    <tr>\n",
       "      <th>192</th>\n",
       "      <td>81</td>\n",
       "      <td>95</td>\n",
       "      <td>14</td>\n",
       "      <td>0.775341</td>\n",
       "      <td>AKTPVITGAPYEYR</td>\n",
       "    </tr>\n",
       "    <tr>\n",
       "      <th>193</th>\n",
       "      <td>83</td>\n",
       "      <td>97</td>\n",
       "      <td>14</td>\n",
       "      <td>0.840370</td>\n",
       "      <td>TPVITGAPYEYRDG</td>\n",
       "    </tr>\n",
       "  </tbody>\n",
       "</table>\n",
       "<p>194 rows × 5 columns</p>\n",
       "</div>"
      ],
      "text/plain": [
       "     start_pos  end_pos  nAA  HLA_prob_pred        sequence\n",
       "0           53       61    8       0.760860        GLDAKTPV\n",
       "1           54       62    8       0.832445        LDAKTPVI\n",
       "2           61       69    8       0.707884        ISGGPYEY\n",
       "3           66       74    8       0.818252        YEYRVEAT\n",
       "4           67       75    8       0.890302        EYRVEATF\n",
       "..         ...      ...  ...            ...             ...\n",
       "189         78       92   14       0.749335  ESNAKTPVITGAPY\n",
       "190         79       93   14       0.866187  SNAKTPVITGAPYE\n",
       "191         80       94   14       0.921481  NAKTPVITGAPYEY\n",
       "192         81       95   14       0.775341  AKTPVITGAPYEYR\n",
       "193         83       97   14       0.840370  TPVITGAPYEYRDG\n",
       "\n",
       "[194 rows x 5 columns]"
      ]
     },
     "execution_count": 6,
     "metadata": {},
     "output_type": "execute_result"
    }
   ],
   "source": [
    "hla_df = model.predict_from_proteins(prob_threshold=0.7)\n",
    "hla_df"
   ]
  },
  {
   "cell_type": "code",
   "execution_count": null,
   "metadata": {},
   "outputs": [],
   "source": []
  }
 ],
 "metadata": {
  "kernelspec": {
   "display_name": "Python 3.8.3 ('base')",
   "language": "python",
   "name": "python3"
  },
  "language_info": {
   "codemirror_mode": {
    "name": "ipython",
    "version": 3
   },
   "file_extension": ".py",
   "mimetype": "text/x-python",
   "name": "python",
   "nbconvert_exporter": "python",
   "pygments_lexer": "ipython3",
   "version": "3.8.3"
  },
  "orig_nbformat": 4,
  "vscode": {
   "interpreter": {
    "hash": "8a3b27e141e49c996c9b863f8707e97aabd49c4a7e8445b9b783b34e4a21a9b2"
   }
  }
 },
 "nbformat": 4,
 "nbformat_minor": 2
}
